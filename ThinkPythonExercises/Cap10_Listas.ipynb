{
 "cells": [
  {
   "cell_type": "markdown",
   "metadata": {},
   "source": [
    "##### Exercício 10.1\n",
    "Escreva uma função chamada nested_num() que faça a soma dos elementos de uma lista de listas (listas aninhadas)"
   ]
  },
  {
   "cell_type": "code",
   "execution_count": null,
   "metadata": {},
   "outputs": [
    {
     "name": "stdout",
     "output_type": "stream",
     "text": [
      "Soma das listas aninhadas é: 21\n"
     ]
    }
   ],
   "source": [
    "# forma 1: usando for para percorrer cada lista\n",
    "lista_de_listas = [[1, 2], [3], [4, 5, 6]]\n",
    "soma = 0\n",
    "\n",
    "for lista in lista_de_listas:\n",
    "    soma += sum(lista)\n",
    "\n",
    "print(f'Soma das listas aninhadas é: {soma}')"
   ]
  },
  {
   "cell_type": "code",
   "execution_count": null,
   "metadata": {},
   "outputs": [
    {
     "name": "stdout",
     "output_type": "stream",
     "text": [
      "Soma das listas aninhadas é: 21\n"
     ]
    }
   ],
   "source": [
    "# forma 2: usando função de alta ordem map\n",
    "lista_de_listas = [[1, 2], [3], [4, 5, 6]]\n",
    "\n",
    "# aplica a função sum sobre cada lista interna\n",
    "soma = sum(list(map(sum, lista_de_listas)))\n",
    "\n",
    "print(f'Soma das listas aninhadas é: {soma}')"
   ]
  },
  {
   "cell_type": "code",
   "execution_count": 5,
   "metadata": {},
   "outputs": [
    {
     "name": "stdout",
     "output_type": "stream",
     "text": [
      "Soma das listas aninhadas é: 21\n"
     ]
    }
   ],
   "source": [
    "# forma 3: usando uma expressão geradora\n",
    "def nested_sum(lista_de_listas: list[list]) -> int|float:\n",
    "\n",
    "    soma_lista = sum(sum(lista) for lista in lista_de_listas)\n",
    "    return soma_lista\n",
    "\n",
    "lst = [[1, 2], [3], [4, 5, 6]]\n",
    "soma = nested_sum(lst)\n",
    "print(f'Soma das listas aninhadas é: {soma}')"
   ]
  },
  {
   "cell_type": "markdown",
   "metadata": {},
   "source": [
    "\n",
    "##### Exercício 10.2\n",
    "Escreva uma função cumsum() que receba uma lista e retorne a soma acumulada , isto é, uma nova lista, onde o i-ésimo termo é a soma dos primeiros i + 1 da lista original\n"
   ]
  },
  {
   "cell_type": "code",
   "execution_count": null,
   "metadata": {},
   "outputs": [
    {
     "data": {
      "text/plain": [
       "[1, 3, 6]"
      ]
     },
     "execution_count": 16,
     "metadata": {},
     "output_type": "execute_result"
    }
   ],
   "source": [
    "# outra forma de criar lista é usando list + range\n",
    "lista = list(range(1, 4))\n",
    "new_list = []\n",
    "\n",
    "for i in range(len(lista)):\n",
    "    \n",
    "    soma = sum(lista[:i + 1])\n",
    "    new_list.append(soma)\n",
    "\n",
    "new_list\n"
   ]
  },
  {
   "cell_type": "code",
   "execution_count": 19,
   "metadata": {},
   "outputs": [
    {
     "data": {
      "text/plain": [
       "[1, 3, 6, 10, 15]"
      ]
     },
     "execution_count": 19,
     "metadata": {},
     "output_type": "execute_result"
    }
   ],
   "source": [
    "# usando list comprehenssion\n",
    "\n",
    "def cumsum(lista_num: list[int]) -> list[int]:\n",
    "\n",
    "    lista_cumsum = [sum(lista_num[:i + 1]) for i in range(len(lista_num))]\n",
    "\n",
    "    return lista_cumsum\n",
    "\n",
    "lst_nums = [1, 2, 3, 4, 5]\n",
    "\n",
    "cumsum(lst_nums)"
   ]
  },
  {
   "cell_type": "markdown",
   "metadata": {},
   "source": [
    "##### Exercício 10.3\n",
    "Escreva uma função middle que receba uma lista e retorne uma nova lista sem o primeiro e o último elemento"
   ]
  },
  {
   "cell_type": "code",
   "execution_count": 27,
   "metadata": {},
   "outputs": [
    {
     "name": "stdout",
     "output_type": "stream",
     "text": [
      "Lista original: [1, 2, 3, 4, 5, 6, 7]\n",
      "Nova lista: [2, 3, 4, 5, 6]\n"
     ]
    }
   ],
   "source": [
    "def middle(lista: list[int|str|float|list|tuple]) -> list[int|str|float|list|tuple]:\n",
    "\n",
    "    # começa do indice 1, ou seja, pulando o índice 0 e vai até o penúltimo item, já que -1\n",
    "    # representa o último elemento da lista e como sabemos ele é excludente\n",
    "    return lista[1:-1]\n",
    "\n",
    "lst = [1, 2, 3, 4, 5, 6, 7]\n",
    "\n",
    "nova_lst = middle(lst)\n",
    "\n",
    "print(f'Lista original: {lst}\\nNova lista: {nova_lst}')"
   ]
  },
  {
   "cell_type": "markdown",
   "metadata": {},
   "source": [
    "##### Exercício 10.4\n",
    "Escreva uma função chamada chop, que receba uma lista, alterando-a para remover o primeiro e o último elemento, retornando None"
   ]
  },
  {
   "cell_type": "code",
   "execution_count": 34,
   "metadata": {},
   "outputs": [
    {
     "name": "stdout",
     "output_type": "stream",
     "text": [
      "Lista antes da chamada da função chop: [1, 2, 3, 4, 5, 6, 7]\n",
      "\n",
      "Lista depois da chamada da função chop: [2, 3, 4, 5, 6]\n"
     ]
    }
   ],
   "source": [
    "# quando a função retorna None, não precisamos explicitar o return\n",
    "def chop(lista: list) -> None:\n",
    "    lista.pop(0)\n",
    "    lista.pop(-1)\n",
    "\n",
    "nums_lista = [1, 2, 3, 4, 5, 6, 7]\n",
    "print(f'Lista antes da chamada da função chop: {nums_lista}\\n')\n",
    "\n",
    "chop(nums_lista)\n",
    "print(f'Lista depois da chamada da função chop: {nums_lista}')\n"
   ]
  },
  {
   "cell_type": "markdown",
   "metadata": {},
   "source": [
    "##### Exercício 10.5\n",
    "Escreva uma função is_sorted() que receba uma lista e retorne True se ela estiver organizado de forma ascendente e False caso contrário"
   ]
  },
  {
   "cell_type": "code",
   "execution_count": 40,
   "metadata": {},
   "outputs": [
    {
     "name": "stdout",
     "output_type": "stream",
     "text": [
      "Lista [1, 2, 8, 4, 5] está em ordem ascendente? False\n",
      "Lista [1, 2, 3, 4, 5] está em ordem ascendente? True\n",
      "Lista ['b', 'a'] está em ordem ascendente? False\n",
      "Lista ['a', 'b', 'c'] está em ordem ascendente? True\n"
     ]
    }
   ],
   "source": [
    "def is_sorted(lst: list) -> bool:\n",
    "    for i in range(len(lista) - 1):\n",
    "\n",
    "        if lista[i] > lista[i + 1]:\n",
    "            return False\n",
    "\n",
    "    return True\n",
    "\n",
    "lista_de_listas = [[1, 2, 8, 4, 5], [1, 2, 3, 4, 5], ['b', 'a'], ['a', 'b', 'c']]\n",
    "\n",
    "for lista in lista_de_listas:\n",
    "    print(f'Lista {lista} está em ordem ascendente? {is_sorted(lista)}')\n"
   ]
  },
  {
   "cell_type": "markdown",
   "metadata": {},
   "source": [
    "##### Exercício 10.6\n",
    "Escreva uma função chamada is_anagram() que receba duas strings e retorne True se uma for anagrama da outra"
   ]
  },
  {
   "cell_type": "code",
   "execution_count": 53,
   "metadata": {},
   "outputs": [
    {
     "name": "stdout",
     "output_type": "stream",
     "text": [
      "duetos eh anagrama de estudo: True\n"
     ]
    }
   ],
   "source": [
    "def is_anagram(str1: str, str2: str) -> bool:\n",
    "\n",
    "    # para uma ser anagrama da outra, elas devem ter exatamente as mesmas letras\n",
    "    # podemos entao ordenar as strings e ver se elas sao iguais\n",
    "    return sorted(str1.lower()) == sorted(str2.lower())\n",
    "\n",
    "string1, string2 = 'estudo', 'duetos'\n",
    "\n",
    "print(f'{string2} eh anagrama de {string1}: {is_anagram(string1, string2)}')"
   ]
  },
  {
   "cell_type": "markdown",
   "metadata": {},
   "source": [
    "##### Exercício 10.7\n",
    "Escreva uma função has_duplicate que receba uma lista e retorne True se ela conter duplicatas"
   ]
  },
  {
   "cell_type": "code",
   "execution_count": 60,
   "metadata": {},
   "outputs": [
    {
     "name": "stdout",
     "output_type": "stream",
     "text": [
      "Lista [1, 2, 2, 3, 4, 5] contém duplicatas: True\n",
      "Lista ['a', 'b', 'c', 'd', 'c'] contém duplicatas: True\n",
      "Lista ['a', 'b', 'c'] contém duplicatas: False\n",
      "Lista [10, 11, 12, 14] contém duplicatas: False\n"
     ]
    }
   ],
   "source": [
    "def has_duplicates(lista: list) -> bool:\n",
    "    \n",
    "    dict_count = {num: lista.count(num) for num in lista}\n",
    "    \n",
    "    for v in dict_count.values():\n",
    "        \n",
    "        if v > 1:\n",
    "            return True\n",
    "    \n",
    "    return False\n",
    "\n",
    "lista_de_listas = [[1, 2, 2, 3, 4, 5], ['a', 'b', 'c', 'd', 'c'], ['a', 'b', 'c'], [10, 11, 12, 14]]\n",
    "\n",
    "for item in lista_de_listas:\n",
    "    print(f'Lista {item} contém duplicatas: {has_duplicates(item)}')\n"
   ]
  },
  {
   "cell_type": "markdown",
   "metadata": {},
   "source": [
    "##### Exercício 10.8\n",
    "Escreva um programa que dada 23 datas de aniversários, calcule a probabilidade de duas pessoas fazerem aniversário no mesmo dia"
   ]
  },
  {
   "cell_type": "code",
   "execution_count": null,
   "metadata": {},
   "outputs": [],
   "source": []
  },
  {
   "cell_type": "markdown",
   "metadata": {},
   "source": [
    "##### Exercício 10.9\n",
    "Escreva uma função que leia o arquivo word.txt, pegue um elemento por palavra e construa uma nova lista. Escreva duas versões dessa função, uma usando o método append() e a outra usando lista = lista + [x] e compare o tempo de execução das duas. Qual delas leva mais tempo para ser executada? "
   ]
  },
  {
   "cell_type": "code",
   "execution_count": null,
   "metadata": {},
   "outputs": [],
   "source": []
  }
 ],
 "metadata": {
  "kernelspec": {
   "display_name": ".venv",
   "language": "python",
   "name": "python3"
  },
  "language_info": {
   "codemirror_mode": {
    "name": "ipython",
    "version": 3
   },
   "file_extension": ".py",
   "mimetype": "text/x-python",
   "name": "python",
   "nbconvert_exporter": "python",
   "pygments_lexer": "ipython3",
   "version": "3.11.5"
  }
 },
 "nbformat": 4,
 "nbformat_minor": 2
}
