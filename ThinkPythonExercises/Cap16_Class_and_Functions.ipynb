{
 "cells": [
  {
   "cell_type": "markdown",
   "metadata": {},
   "source": [
    "##### Criando uma class Time\n",
    "Crie uma classe Time que printa a data no formato hh:mm:ss e uma função que receba dois objetos time e retorne True se t1 for seguido cronologicamente por t2"
   ]
  },
  {
   "cell_type": "code",
   "execution_count": null,
   "metadata": {},
   "outputs": [
    {
     "name": "stdout",
     "output_type": "stream",
     "text": [
      "True\n"
     ]
    }
   ],
   "source": [
    "class Time:\n",
    "    '''Represents the time of day.'''\n",
    "\n",
    "    def __init__(self, hour=0, minute=0, second=0):\n",
    "        '''Initializes a time object.'''\n",
    "        self.hour = hour\n",
    "        self.minute = minute\n",
    "        self.second = second\n",
    "\n",
    "    def __str__(self):\n",
    "        '''Returns a string representation of the time.'''\n",
    "        return f'{self.hour:02}:{self.minute:02}:{self.second:02}'\n",
    "    \n",
    "\n",
    "def is_after(time1: Time, time2: Time) -> bool:\n",
    "    '''Returns True if time1 is after time2; otherwise, returns False.'''\n",
    "    return (time1.hour, time1.minute, time1.second) < (time2.hour, time2.minute, time2.second)\n",
    "\n",
    "# initialize two Time objects\n",
    "t1 = Time(10, 46, 53)\n",
    "t2 = Time(10, 46, 54)\n",
    "\n",
    "print(is_after(t1, t2))"
   ]
  },
  {
   "cell_type": "markdown",
   "metadata": {},
   "source": [
    "##### Função para adicionar tempos"
   ]
  },
  {
   "cell_type": "code",
   "execution_count": 24,
   "metadata": {},
   "outputs": [
    {
     "data": {
      "text/plain": [
       "'08:00:32'"
      ]
     },
     "execution_count": 24,
     "metadata": {},
     "output_type": "execute_result"
    }
   ],
   "source": [
    "def time_to_int(time: Time) -> int:\n",
    "    '''Converts a Time object to an integer number of seconds.'''\n",
    "    \n",
    "    minutes = time.hour * 60 + time.minute\n",
    "    seconds = minutes * 60 + time.second\n",
    "    \n",
    "    return seconds\n",
    "\n",
    "def add_time(t1: Time, t2: Time) -> Time:\n",
    "    '''Adds two time objects and returns a new Time object.'''\n",
    "\n",
    "    time = Time() # create a new Time object\n",
    "    seconds = time_to_int(t1) + time_to_int(t2) # convert both Time objects to seconds and add them\n",
    "\n",
    "    minutes, time.second = divmod(seconds, 60) # convert seconds to minutes and seconds\n",
    "    time.hour, time.minute = divmod(minutes, 60) # convert minutes to hours and minutes\n",
    "\n",
    "    return time\n",
    "\n",
    "\n",
    "start = Time(6, 30, 00)\n",
    "duration = Time(1, 30, 32)\n",
    "\n",
    "end = add_time(start, duration)\n",
    "\n",
    "end.__str__()\n",
    "    "
   ]
  },
  {
   "cell_type": "markdown",
   "metadata": {},
   "source": [
    "##### Exercício 16.1\n",
    "Escreva uma função mul_time que receba um objeto time e multiplique-o por um número.\n",
    "Em seguida, use essa função para calcular o pace de uma corrida, fornecendo o tempo de duração e a distancia"
   ]
  },
  {
   "cell_type": "code",
   "execution_count": 32,
   "metadata": {},
   "outputs": [
    {
     "name": "stdout",
     "output_type": "stream",
     "text": [
      "0.0:7.0:10.916030534351137\n"
     ]
    }
   ],
   "source": [
    "def mul_time(t: Time, n: int|float) -> Time:\n",
    "    '''Multiplies a Time object by a number and returns a new Time object.'''\n",
    "    \n",
    "    time = Time()\n",
    "    seconds = time_to_int(t) * n # multiply the Time object by 2\n",
    "    \n",
    "    minutes, time.second = divmod(seconds, 60) # convert seconds to minutes and seconds\n",
    "    time.hour, time.minute = divmod(minutes, 60) # convert minutes to hours and minutes\n",
    "\n",
    "    return time\n",
    "\n",
    "# calculating the pace based on the time and distance\n",
    "distance = 13.1\n",
    "t1 = Time(1, 34, 5)\n",
    "\n",
    "t_end = mul_time(t=t1, n= 1 / distance) # calculate the time to run 10 miles\n",
    "print(t_end)"
   ]
  },
  {
   "cell_type": "markdown",
   "metadata": {},
   "source": [
    "##### Exercício 16.2\n",
    "Usando o módulo datetime, escreva um programa que recebe a data atual e retorne o dia da semana"
   ]
  },
  {
   "cell_type": "code",
   "execution_count": null,
   "metadata": {},
   "outputs": [
    {
     "name": "stdout",
     "output_type": "stream",
     "text": [
      "Dia da semana: wednesday\n"
     ]
    }
   ],
   "source": [
    "import datetime\n",
    "\n",
    "# days of the week\n",
    "days = ['monday', 'tuesday', 'wednesday', 'thursday', 'friday', 'saturday', 'sunday']\n",
    "\n",
    "date = datetime.date(2025, 3, 26)\n",
    "\n",
    "# search in the list of days the day of the week corresponding to the date.weekday() method\n",
    "print(f'Dia da semana: {days[date.weekday()]}')"
   ]
  },
  {
   "cell_type": "markdown",
   "metadata": {},
   "source": [
    "##### Exercício 16.2\n",
    "Escreva um exercício que reeceba um aniversário como entrada e calcule a idade do usr e o número de dias, horas, minutos e seegundos até o seu próximo aniversário"
   ]
  },
  {
   "cell_type": "code",
   "execution_count": null,
   "metadata": {},
   "outputs": [
    {
     "name": "stdout",
     "output_type": "stream",
     "text": [
      "1999-01-18 00:00:00\n"
     ]
    }
   ],
   "source": [
    "# testes\n",
    "aniver = input('Digite a data do seu aniversário (dd/mm/yyyy): ')\n",
    "\n",
    "try:\n",
    "    aniver_v1 = datetime.datetime.strptime(aniver, '%d/%m/%Y') # cast the string to a datetime object\n",
    "    # aniver_v2 = datetime.datetime.strftime(aniver, '%d/%m/%Y') # here, the string is already a datetime object and we are to format it\n",
    "\n",
    "except TypeError as e:\n",
    "    print(f'{e}')\n",
    "\n",
    "else:\n",
    "    print(aniver_v1)"
   ]
  },
  {
   "cell_type": "code",
   "execution_count": null,
   "metadata": {},
   "outputs": [
    {
     "name": "stdout",
     "output_type": "stream",
     "text": [
      "Your age: 51 years old and next birthday:  07/08/2025\n"
     ]
    }
   ],
   "source": [
    "# birthday date from user\n",
    "aniver = input('Digite a data do seu aniversário (dd/mm/yyyy): ')\n",
    "\n",
    "# convert the string to a datetime object\n",
    "cast_aniver = datetime.datetime.strptime(aniver, '%d/%m/%Y')\n",
    "\n",
    "# get the current date\n",
    "today = datetime.datetime.now()\n",
    "\n",
    "# calculate the user's age\n",
    "age = (today - cast_aniver).days // 365\n",
    "\n",
    "# next birthday\n",
    "if (next_birthday:= datetime.datetime(today.year, cast_aniver.month, cast_aniver.day)) < today: # in case the user's birthday has not yet arrived\n",
    "    \n",
    "    year = next_birthday.year + 1\n",
    "    next_birthday = datetime.datetime(year, cast_aniver.month, cast_aniver.day)\n",
    "\n",
    "print(f'Your age: {age} years old and next birthday: {next_birthday: %d/%m/%Y}')"
   ]
  },
  {
   "cell_type": "markdown",
   "metadata": {},
   "source": [
    "##### Exercício 16.3\n",
    "Escreva um programa que dado o aniversario de dois usuários, calcule o dia duplo deles, isto é, a data onde a idade de um é o dobro da outra\n",
    "\n",
    "Para isso, precisamos equacionar o problema da seguinte forma:<br>\n",
    "\n",
    "a idade do user 1 segue uma reta do tipo y = x <br>\n",
    "a idade do user 2 segue uma reta do tipo y = x + d, onde d é a diferença em anos do user 1 e do user 2 <br>\n",
    "o dobro da idade do user 1 é uma equação do tipo y = 2x <br>\n",
    "\n",
    "Logo, estamos interessados no ponto que intersecta as equações da idade do user 2 e do dobro da idade do user 1, isto é, o ponto onde a idade do user 2 é o dobro da do user 1, logo: <br>\n",
    "x + d = 2x -> x = d <br>\n",
    "\n",
    "O d representa a diferença em anos entre user 1 e user 2, considerando como referencia a data de nascimento do user 1 (mais novo que o user 2), sendo o ponto que satisfaz a igualdade.<br>\n",
    "\n",
    "Logo, para encontrar o double day, precisamos somar essa diferença d à data de nascimento do user 1 e verificar se a data resultante é antes ou depois do aniversário do user 2, pois a máxima data entre essas duas, será a data onde a idade do user 2 será o dobro da do user 1"
   ]
  },
  {
   "cell_type": "code",
   "execution_count": 46,
   "metadata": {},
   "outputs": [
    {
     "data": {
      "image/png": "[encoded data removed]",
      "text/plain": [
       "<Figure size 1000x500 with 1 Axes>"
      ]
     },
     "metadata": {},
     "output_type": "display_data"
    }
   ],
   "source": [
    "import datetime\n",
    "import matplotlib.pyplot as plt\n",
    "from dateutil.relativedelta import relativedelta\n",
    "\n",
    "# get the current date\n",
    "today = datetime.date.today()\n",
    "\n",
    "# birth of both users\n",
    "user_birth1 = datetime.date(1999, 1, 18)\n",
    "user_birth2 = datetime.date(1973, 8, 7)\n",
    "\n",
    "# calculate the ages\n",
    "age_user1 = (today - user_birth1).days // 365\n",
    "age_user2 = (today - user_birth2).days // 365\n",
    "\n",
    "# differences between the ages\n",
    "diff_age = age_user2 - age_user1 # this difference represents the time (in years) at which the age is doubling\n",
    "\n",
    "x_time_in_years = range(1, 100, 10)\n",
    "\n",
    "y_years = time_in_years = range(1, 100, 10)\n",
    "\n",
    "y_double_years = [x * 2 for x in y_years]\n",
    "\n",
    "age_of_user2 = [x + diff_age for x in x_time_in_years]\n",
    "\n",
    "fig, ax = plt.subplots(figsize=(10, 5))\n",
    "\n",
    "# plotting the 3 lines on the same graph \n",
    "\n",
    "# in this problem, the x-axis represents the time in years and the y-axis represents the age of the user in years\n",
    "# to solve it, we need to equate the ages of user 2 and double the age of user 1, resulting in the equation y = x + d = 2x -> x = d\n",
    "# where d is the difference between the ages of user 1 and user 2, representing the time (in years) at which the age is doubling in relation to user 1 birth\n",
    "l1 = ax.plot(x_time_in_years, y_years, label='Age of user 1', color='blue')\n",
    "l2 = ax.plot(x_time_in_years, y_double_years, label='Double age of user 1', color='red')\n",
    "l3 = ax.plot(x_time_in_years, age_of_user2, label='Age of user 2', color='green')\n",
    "\n",
    "ax.annotate('y = 2x', xy=(5, 26), xytext=(75, 175))\n",
    "ax.annotate('y = x + d', xy=(5, 26), xytext=(75, 115))\n",
    "ax.annotate('y = x', xy=(5, 26), xytext=(75, 65))\n",
    "\n",
    "ax.set_title('Time in years')\n",
    "ax.set_xlabel('Years')\n",
    "ax.set_ylabel('Days')\n",
    "ax.legend()\n",
    "\n",
    "plt.show()\n",
    "\n"
   ]
  },
  {
   "cell_type": "code",
   "execution_count": 48,
   "metadata": {},
   "outputs": [
    {
     "name": "stdout",
     "output_type": "stream",
     "text": [
      "Double birthday: 07/08/2024\n"
     ]
    }
   ],
   "source": [
    "from dateutil.relativedelta import relativedelta\n",
    "\n",
    "def get_double_day(user_birth1: datetime, user_birth2: datetime) -> datetime:\n",
    "    '''Calculates the double birthday of two users.\n",
    "    For this function to work properly, the user 1 must be younger than user 2.'''\n",
    "    \n",
    "    # get the current date\n",
    "    today = datetime.date.today()\n",
    "\n",
    "    # calculate the ages\n",
    "    age_user1 = (today - user_birth1).days // 365\n",
    "    age_user2 = (today - user_birth2).days // 365\n",
    "\n",
    "    # differences between the ages\n",
    "    diff_age = age_user2 - age_user1 # this difference represents the time (in years) at which the age is doubling\n",
    "    \n",
    "    if diff_age > 0:\n",
    "\n",
    "        double_birth_user1 = user_birth1 + relativedelta(years=diff_age) # potential double birthday\n",
    "        double_birth_user2 = datetime.date(double_birth_user1.year, user_birth2.month, user_birth2.day)\n",
    "\n",
    "        return double_birth_user1 if double_birth_user1 > double_birth_user2 else double_birth_user2\n",
    "    \n",
    "    else:\n",
    "        raise ValueError('User 1 must be younger than user 2.')\n",
    "\n",
    "# birth of both users\n",
    "user_birth1 = datetime.date(1999, 1, 18)\n",
    "user_birth2 = datetime.date(1973, 8, 7)\n",
    "\n",
    "double_day = get_double_day(user_birth1, user_birth2)\n",
    "\n",
    "print(f'Double birthday: {double_day.strftime(\"%d/%m/%Y\")}')"
   ]
  },
  {
   "cell_type": "markdown",
   "metadata": {},
   "source": [
    "##### Exercício 16.4\n",
    "Para um desafio um pouco maior, escreva uma programa que calcule o dia em que uma pessoa é n vezes mais velha do que outra\n",
    "\n",
    "Se para o caso do double day, nossa equação é 2x = x + d -> x = d, para saber o valor de x quando queremos o dia n, isto é, a quantidade de anos que se passaram da data de nascimento do user 1, para que o user 2 seja n vezes mais velha que o user 1, podemos fazer: <br> \n",
    "\n",
    "n.x = x + d -> x(n - 1) = d -> x = d / (n-1), onde d é a diferença em anos entre o user1 e o user2. O valor de x representa quantos anos se passaram da data de nascimento do user 1 (user mais novo)"
   ]
  },
  {
   "cell_type": "code",
   "execution_count": null,
   "metadata": {},
   "outputs": [
    {
     "name": "stdout",
     "output_type": "stream",
     "text": [
      "The n-day birthday is: 25/12/2010\n"
     ]
    }
   ],
   "source": [
    "def get_n_day(n: int, user1_birth: datetime, user2_birth: datetime) -> datetime:\n",
    "    '''Calculates the n-day of of two users'''\n",
    "\n",
    "    # get the current date\n",
    "    today = datetime.date.today()\n",
    "\n",
    "    # calculate the ages\n",
    "    age1 = (today - user1_birth).days // 365\n",
    "    age2 = (today - user2_birth).days // 365\n",
    "\n",
    "    diff_age = (age2 - age1) // (n - 1) # this difference represents the time (in years) at which the age of user 2 is n times the age of user 1\n",
    "\n",
    "    if diff_age > 0:\n",
    "        n_day_user1 = user1_birth + relativedelta(years=diff_age) # potential n-day birthday\n",
    "        n_day_user2 = datetime.date(n_day_user1.year, user2_birth.month, user2_birth.day)\n",
    "\n",
    "        return n_day_user1 if n_day_user1 > n_day_user2 else n_day_user2 # return the n-day birthday of user 1 or user 2 (the most recent date between both of them)\n",
    "\n",
    "    else:\n",
    "        raise ValueError('User 1 must be younger than user 2.')\n",
    "\n",
    "# birth of both users\n",
    "birthday_user1 = datetime.date(1999, 1, 18)\n",
    "birthday_user2 = datetime.date(1976, 12, 25)\n",
    "\n",
    "n_day = get_n_day(3, birthday_user1, birthday_user2)\n",
    "print(f'The n-day birthday is: {n_day.strftime(\"%d/%m/%Y\")}')"
   ]
  },
  {
   "cell_type": "markdown",
   "metadata": {},
   "source": [
    "##### Assertion operator\n",
    "It's used to validate expressions and optionally we can raise a message error if the assertion fails."
   ]
  },
  {
   "cell_type": "code",
   "execution_count": 49,
   "metadata": {},
   "outputs": [],
   "source": [
    "assert 1 == 1, '1 is not equal to 1'"
   ]
  },
  {
   "cell_type": "code",
   "execution_count": 50,
   "metadata": {},
   "outputs": [
    {
     "ename": "AssertionError",
     "evalue": "2 is not equal to 3",
     "output_type": "error",
     "traceback": [
      "\u001b[1;31m---------------------------------------------------------------------------\u001b[0m",
      "\u001b[1;31mAssertionError\u001b[0m                            Traceback (most recent call last)",
      "Cell \u001b[1;32mIn[50], line 1\u001b[0m\n\u001b[1;32m----> 1\u001b[0m \u001b[38;5;28;01massert\u001b[39;00m \u001b[38;5;241m2\u001b[39m \u001b[38;5;241m==\u001b[39m \u001b[38;5;241m3\u001b[39m, \u001b[38;5;124m'\u001b[39m\u001b[38;5;124m2 is not equal to 3\u001b[39m\u001b[38;5;124m'\u001b[39m\n",
      "\u001b[1;31mAssertionError\u001b[0m: 2 is not equal to 3"
     ]
    }
   ],
   "source": [
    "assert 2 == 3, '2 is not equal to 3'"
   ]
  }
 ],
 "metadata": {
  "kernelspec": {
   "display_name": ".venv",
   "language": "python",
   "name": "python3"
  },
  "language_info": {
   "codemirror_mode": {
    "name": "ipython",
    "version": 3
   },
   "file_extension": ".py",
   "mimetype": "text/x-python",
   "name": "python",
   "nbconvert_exporter": "python",
   "pygments_lexer": "ipython3",
   "version": "3.11.5"
  }
 },
 "nbformat": 4,
 "nbformat_minor": 2
}
