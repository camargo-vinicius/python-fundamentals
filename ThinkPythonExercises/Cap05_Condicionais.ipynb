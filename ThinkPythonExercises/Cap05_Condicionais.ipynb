{
 "cells": [
  {
   "cell_type": "markdown",
   "metadata": {},
   "source": [
    "##### Exercício 5.2.1\n",
    "\n",
    "Escreva uma fç chamada check_fermat que receba os parametros a, b, c e n e verifique se o teorema de fermat se mantém.\n",
    "\n",
    "O **Último Teorema de Fermat** afirma que a equação:\n",
    "\n",
    "$$\n",
    "a^n + b^n = c^n\n",
    "$$\n",
    "\n",
    "não possui soluções inteiras para (a, b, c) diferentes de zero quando n > 2.\n",
    "\n",
    "Se n > 2 e a equaçao for verdadeira, printe \"Holy smokes, Fermat was wrong\". Caso contrário, imprima \"No, that doesn't work\"\n",
    "\n",
    "\n"
   ]
  },
  {
   "cell_type": "code",
   "execution_count": 6,
   "metadata": {},
   "outputs": [
    {
     "name": "stdout",
     "output_type": "stream",
     "text": [
      "No, that doesn't work\n"
     ]
    }
   ],
   "source": [
    "def check_fermat(a: int, b: int, c: int, n: int) -> None:\n",
    "    \n",
    "    if n > 2 and a ** n + b ** n == c ** n:\n",
    "        print(f'Holy smokes, Fermat was wrong!')\n",
    "    \n",
    "    else:\n",
    "        print('No, that doesn\\'t work')\n",
    "\n",
    "# main\n",
    "check_fermat(3, 4, 5, 3)"
   ]
  },
  {
   "cell_type": "code",
   "execution_count": 8,
   "metadata": {},
   "outputs": [
    {
     "name": "stdout",
     "output_type": "stream",
     "text": [
      "No, that doesn't work\n"
     ]
    }
   ],
   "source": [
    "# v2: passando os argumentos da fç com o operador spread - lista para argumentos\n",
    "\n",
    "def check_fermat(a: int, b: int, c: int, n: int) -> None:\n",
    "    \n",
    "    if n > 2 and a ** n + b ** n == c ** n:\n",
    "        print(f'Holy smokes, Fermat was wrong!')\n",
    "    \n",
    "    else:\n",
    "        print('No, that doesn\\'t work')\n",
    "\n",
    "# main\n",
    "lst = [3, 4, 5, 3]\n",
    "\n",
    "# o operador spread serve para desempacotar a lista em 4 argumentos para a fç check\n",
    "check_fermat(*lst) # se nao usarmos o spread, a fc retorna um erro."
   ]
  },
  {
   "cell_type": "code",
   "execution_count": 25,
   "metadata": {},
   "outputs": [
    {
     "name": "stdout",
     "output_type": "stream",
     "text": [
      "No, that doesn't work\n"
     ]
    }
   ],
   "source": [
    "# v3: passando os argumentos da fç com o operador spread - dict para argumentos\n",
    "def check_fermat(a: int, b: int, c: int, n: int) -> None:\n",
    "    \n",
    "    if n > 2 and a ** n + b ** n == c ** n:\n",
    "        print(f'Holy smokes, Fermat was wrong!')\n",
    "    \n",
    "    else:\n",
    "        print('No, that doesn\\'t work')\n",
    "\n",
    "# main\n",
    "dct = {'a': 3, 'b': 4, 'c': 5, 'n': 3}\n",
    "\n",
    "# o operador spread serve para desempacotar o dict em 4 argumentos para a fç check\n",
    "check_fermat(**dct) # se nao usarmos o spread, a fc retorna um erro.\n",
    "# equivalencia: check_fermat(dct['a'], dct['b'], dct['c'], dct['n'])\n"
   ]
  },
  {
   "cell_type": "markdown",
   "metadata": {},
   "source": [
    "##### 5.2.2. Escreva uma função para receber a entrada do usr, converta os números para int e use check_fermat para verificar se os números violam o teorema"
   ]
  },
  {
   "cell_type": "code",
   "execution_count": 28,
   "metadata": {},
   "outputs": [
    {
     "name": "stdout",
     "output_type": "stream",
     "text": [
      "No, that doesn't work\n"
     ]
    }
   ],
   "source": [
    "def input_usr() -> list:\n",
    "    return list(map(int, input('Enter 4 numbers separated by a comma: ').split(',')))\n",
    "\n",
    "def check_fermat(a: int, b: int, c: int, n: int) -> None:\n",
    "\n",
    "    if n > 2 and a ** n + b ** n == c ** n:\n",
    "        print(f'Holy smokes, Fermat was wrong!')\n",
    "    else:\n",
    "        print('No, that doesn\\'t work')\n",
    "\n",
    "lst = input_usr()\n",
    "check_fermat(*lst)\n"
   ]
  },
  {
   "cell_type": "markdown",
   "metadata": {},
   "source": [
    "##### Exercício 5.3\n",
    "Escreva uma função is_triangle que recebe 3 numeros inteiros e cheque se é possível montar um triangulo com essas medidas.\n",
    "\n",
    "Para formar um triangulo, um lado deve ser menor que a soma dos outros dois"
   ]
  },
  {
   "cell_type": "code",
   "execution_count": 41,
   "metadata": {},
   "outputs": [
    {
     "name": "stdout",
     "output_type": "stream",
     "text": [
      "x=10, y=2, z=5 é triangulo? False\n",
      "x=3, y=4, z=5 é triangulo? True\n"
     ]
    }
   ],
   "source": [
    "def is_triangle(a: int, b: int, c: int) -> bool:\n",
    "    \n",
    "    # precisa checar se a + b > c e se b + c > a e se c + a > b\n",
    "    return True if a + b > c and b + c > a and c + a > b else False\n",
    "\n",
    "# teste 1\n",
    "x, y, z = 10, 2, 5\n",
    "print(f'{x=}, {y=}, {z=} é triangulo? {is_triangle(x, y, z)}')\n",
    "\n",
    "# teste 2\n",
    "x, y, z = 3, 4, 5\n",
    "print(f'{x=}, {y=}, {z=} é triangulo? {is_triangle(x, y, z)}')"
   ]
  }
 ],
 "metadata": {
  "kernelspec": {
   "display_name": ".venv",
   "language": "python",
   "name": "python3"
  },
  "language_info": {
   "codemirror_mode": {
    "name": "ipython",
    "version": 3
   },
   "file_extension": ".py",
   "mimetype": "text/x-python",
   "name": "python",
   "nbconvert_exporter": "python",
   "pygments_lexer": "ipython3",
   "version": "3.11.5"
  }
 },
 "nbformat": 4,
 "nbformat_minor": 2
}
