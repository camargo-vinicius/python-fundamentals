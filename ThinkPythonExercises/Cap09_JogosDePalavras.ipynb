{
 "cells": [
  {
   "cell_type": "markdown",
   "metadata": {},
   "source": [
    "#### Cap09 - Estudo de casos: jogos de palavras"
   ]
  },
  {
   "cell_type": "markdown",
   "metadata": {},
   "source": [
    "##### Leitura de palavras\n",
    "\n",
    "Abrindo o arquivo de palavras"
   ]
  },
  {
   "cell_type": "code",
   "execution_count": 3,
   "metadata": {},
   "outputs": [
    {
     "name": "stdout",
     "output_type": "stream",
     "text": [
      "Conteúdo lido com sucesso.\n"
     ]
    }
   ],
   "source": [
    "import os \n",
    "\n",
    "# retorna o caminho completo (absoluto) do arquivo atual\n",
    "ABS_PATH = os.path.abspath('Cap09_JogosDePalavras.ipynb')\n",
    "\n",
    "# sobe dois níveis na pasta raiz: ThinkPythonExercises/ e depois Fundamentos_e_Logica/\n",
    "BASE_DIR = os.path.dirname(os.path.dirname(ABS_PATH))\n",
    "\n",
    "# # monta o caminho para o diretorio data/videos_stats.pkl\n",
    "DATA_PATH = os.path.join(BASE_DIR, 'words.txt')\n",
    "\n",
    "try:\n",
    "    with open(DATA_PATH, 'r') as file:\n",
    "        data = file.read()\n",
    "        \n",
    "except FileNotFoundError as e:\n",
    "    print(e)\n",
    "\n",
    "except PermissionError as e:\n",
    "    print(e)\n",
    "\n",
    "else:\n",
    "    print('Conteúdo lido com sucesso.')"
   ]
  },
  {
   "cell_type": "markdown",
   "metadata": {},
   "source": [
    "##### Exercício 9.1\n",
    "Escreva um programa que leia words.txt e imprima apenas as palavras com mais de 20 caracteres, sem contar whitespaces\n",
    "\n",
    "Poderia usar a variavel data já criada na celula acima. Entretanto, vamos usar um aproach que manipula o arquivo dentro do próprio bloco with"
   ]
  },
  {
   "cell_type": "code",
   "execution_count": 4,
   "metadata": {},
   "outputs": [
    {
     "name": "stdout",
     "output_type": "stream",
     "text": [
      "['counterdemonstrations', 'hyperaggressivenesses', 'microminiaturizations']\n"
     ]
    }
   ],
   "source": [
    "# forma 1: lendo o arquivo de palavras e filtrando antes de fechar\n",
    "try:\n",
    "    with open(DATA_PATH, 'r') as file:\n",
    "        \n",
    "        # percorre cada linha (q contem uma palavra), verifca o tamanho da palavra sem espaco e \n",
    "        # adiciona na lista já removendo o '\\n'\n",
    "        lista_words = [line.replace('\\n', '') for line in file if len(line.strip()) > 20]\n",
    "\n",
    "except FileNotFoundError as e:\n",
    "    print(e)\n",
    "\n",
    "except PermissionError as e:\n",
    "    print(e)\n",
    "\n",
    "else:\n",
    "    print(lista_words)"
   ]
  },
  {
   "cell_type": "code",
   "execution_count": 5,
   "metadata": {},
   "outputs": [
    {
     "data": {
      "text/plain": [
       "['counterdemonstrations', 'hyperaggressivenesses', 'microminiaturizations']"
      ]
     },
     "execution_count": 5,
     "metadata": {},
     "output_type": "execute_result"
    }
   ],
   "source": [
    "# forma 2: lendo o arquivo de palavras após fechar e só depois filtrando e usando expressao geradora\n",
    "\n",
    "maiores_20 = list(filter(any, (line for line in data.split('\\n') if len(line.strip()) > 20)))\n",
    "maiores_20"
   ]
  },
  {
   "cell_type": "markdown",
   "metadata": {},
   "source": [
    "##### Exercício 9.2\n",
    "\n",
    "Escreva uma funcao chamada has_no_e que retorne True se a palavra dada não contenha a letra 'e' e calcule a porcentagem de palavras da lista q não tem 'e'"
   ]
  },
  {
   "cell_type": "code",
   "execution_count": 6,
   "metadata": {},
   "outputs": [
    {
     "name": "stdout",
     "output_type": "stream",
     "text": [
      "Porcentagem de palavras sem letra 'e': 33.1%\n",
      "Tempo de execução: 0.02 seg.\n"
     ]
    }
   ],
   "source": [
    "import time\n",
    "\n",
    "def has_no_e(word: str) -> bool:\n",
    "    return not 'e' in word\n",
    "\n",
    "start = time.time()\n",
    "\n",
    "with open(DATA_PATH, 'r') as file:\n",
    "    # file.read() retorna uma string com o conteudo do arquivo. split('\\n') retorna uma lista com as palavras\n",
    "    all_words = file.read().split('\\n')\n",
    "\n",
    "    # filtrando apenas as palavras que não tem 'e'\n",
    "    words_no_e = [line for line in all_words if has_no_e(line)]\n",
    "\n",
    "# porcentagem de palavras que não tem e\n",
    "pct = len(words_no_e) / len(all_words)\n",
    "print(f\"Porcentagem de palavras sem letra 'e': {pct:.1%}\")\n",
    "\n",
    "end = time.time()\n",
    "print(f\"Tempo de execução: {end - start:.2f} seg.\")"
   ]
  },
  {
   "cell_type": "markdown",
   "metadata": {},
   "source": [
    "##### Exercício 9.3\n",
    "Escreva uma função chamada avoids que receba uma palavra e uma serie de letras proibidas, e retorne True se a palavra não conter nenhum letra proibida"
   ]
  },
  {
   "cell_type": "code",
   "execution_count": 7,
   "metadata": {},
   "outputs": [
    {
     "name": "stdout",
     "output_type": "stream",
     "text": [
      "apple não contém letras proibidas: False\n",
      "xyz não contém letras proibidas: True\n"
     ]
    }
   ],
   "source": [
    "# forma 1: usando set (conjuntos) para comparar as diferenças entre as strings\n",
    "def avoids(word: str, forbidden_letters: str) -> bool:\n",
    "\n",
    "    # retorna True se nenhuma letra de word estiver em forbidden_letters\n",
    "    return set(word).isdisjoint(forbidden_letters) \n",
    "    \n",
    "letters_avoid = 'aeiou'\n",
    "\n",
    "word_list = ['apple', 'xyz']\n",
    "\n",
    "for word in word_list:\n",
    "    print(f'{word} não contém letras proibidas: {avoids(word, letters_avoid)}')\n"
   ]
  },
  {
   "cell_type": "code",
   "execution_count": 8,
   "metadata": {},
   "outputs": [
    {
     "name": "stdout",
     "output_type": "stream",
     "text": [
      "apple contém letras proibidas: True\n",
      "xyz contém letras proibidas: False\n"
     ]
    }
   ],
   "source": [
    "# forma 2: percorrendo cada letra da string e verificando se ela está em forbidden_letters\n",
    "def avoids_v2(word2: str, forbidden_letters2: str) -> bool:\n",
    "    \n",
    "    return any(letter in forbidden_letters2 for letter in word2)\n",
    "\n",
    "letters_avoid = 'aeiou'\n",
    "\n",
    "word_list = ['apple', 'xyz']\n",
    "\n",
    "for word in word_list:\n",
    "    print(f'{word} contém letras proibidas: {avoids_v2(word, letters_avoid)}')"
   ]
  },
  {
   "cell_type": "markdown",
   "metadata": {},
   "source": [
    "Altere o programa deste exercício para que o usr digite uma serie de letras proibidas e o programa imprima todas as palavras de words.txt que não contenham estas palavras.\n",
    "Você consegue encontrar uma combinação de 5 letras que exclua a menor a quantidade de palavras?"
   ]
  },
  {
   "cell_type": "code",
   "execution_count": null,
   "metadata": {},
   "outputs": [
    {
     "name": "stdout",
     "output_type": "stream",
     "text": [
      "letras proibidas são: aeiou\n",
      "\n"
     ]
    },
    {
     "data": {
      "text/plain": [
       "['by',\n",
       " 'byrl',\n",
       " 'byrls',\n",
       " 'bys',\n",
       " 'crwth',\n",
       " 'crwths',\n",
       " 'cry',\n",
       " 'crypt',\n",
       " 'crypts',\n",
       " 'cwm',\n",
       " 'cwms',\n",
       " 'cyst',\n",
       " 'cysts',\n",
       " 'dry',\n",
       " 'dryly',\n",
       " 'drys',\n",
       " 'fly',\n",
       " 'flyby',\n",
       " 'flybys',\n",
       " 'flysch',\n",
       " 'fry',\n",
       " 'ghyll',\n",
       " 'ghylls',\n",
       " 'glycyl',\n",
       " 'glycyls',\n",
       " 'glyph',\n",
       " 'glyphs',\n",
       " 'gym',\n",
       " 'gyms',\n",
       " 'gyp',\n",
       " 'gyps',\n",
       " 'gypsy',\n",
       " 'hymn',\n",
       " 'hymns',\n",
       " 'hyp',\n",
       " 'hyps',\n",
       " 'lymph',\n",
       " 'lymphs',\n",
       " 'lynch',\n",
       " 'lynx',\n",
       " 'my',\n",
       " 'myrrh',\n",
       " 'myrrhs',\n",
       " 'myth',\n",
       " 'myths',\n",
       " 'nth',\n",
       " 'nymph',\n",
       " 'nymphs',\n",
       " 'phpht',\n",
       " 'pht',\n",
       " 'ply',\n",
       " 'pry',\n",
       " 'psst',\n",
       " 'psych',\n",
       " 'psychs',\n",
       " 'pygmy',\n",
       " 'pyx',\n",
       " 'rhythm',\n",
       " 'rhythms',\n",
       " 'rynd',\n",
       " 'rynds',\n",
       " 'sh',\n",
       " 'shh',\n",
       " 'shy',\n",
       " 'shyly',\n",
       " 'sky',\n",
       " 'sly',\n",
       " 'slyly',\n",
       " 'spry',\n",
       " 'spryly',\n",
       " 'spy',\n",
       " 'sty',\n",
       " 'stymy',\n",
       " 'sylph',\n",
       " 'sylphs',\n",
       " 'sylphy',\n",
       " 'syn',\n",
       " 'sync',\n",
       " 'synch',\n",
       " 'synchs',\n",
       " 'syncs',\n",
       " 'syzygy',\n",
       " 'thy',\n",
       " 'thymy',\n",
       " 'try',\n",
       " 'tryst',\n",
       " 'trysts',\n",
       " 'tsk',\n",
       " 'tsks',\n",
       " 'tsktsk',\n",
       " 'tsktsks',\n",
       " 'typp',\n",
       " 'typps',\n",
       " 'typy',\n",
       " 'why',\n",
       " 'whys',\n",
       " 'wry',\n",
       " 'wryly',\n",
       " 'wych',\n",
       " 'wynd',\n",
       " 'wynds',\n",
       " 'wynn',\n",
       " 'wynns',\n",
       " 'xylyl',\n",
       " 'xylyls',\n",
       " 'xyst',\n",
       " 'xysts']"
      ]
     },
     "execution_count": 99,
     "metadata": {},
     "output_type": "execute_result"
    }
   ],
   "source": [
    "import string\n",
    "\n",
    "with open(DATA_PATH, 'r') as file:\n",
    "\n",
    "    # outra forma de ler o conteudo e salvar numa lista. Exclui o último elemento que é uma string vazia\n",
    "    conteudo = file.read().split('\\n')[:-1]\n",
    "\n",
    "# letras probidas pelo usr\n",
    "letras_proibidas = input('Informe as letras proibidas sepadas por espaco: ').strip()\n",
    "\n",
    "print(f'letras proibidas são: {letras_proibidas}\\n')\n",
    "\n",
    "# forma 1: usando list comprehenssion\n",
    "lista_has_no_forbidden = [palavra for palavra in conteudo if set(palavra).isdisjoint(letras_proibidas)]\n",
    "\n",
    "# forma 2: usando filter\n",
    "lista_has_no_forbidden2 = list(filter(lambda palavra: set(palavra).isdisjoint(letras_proibidas), conteudo))\n",
    "\n",
    "lista_has_no_forbidden2"
   ]
  },
  {
   "cell_type": "code",
   "execution_count": null,
   "metadata": {},
   "outputs": [
    {
     "name": "stdout",
     "output_type": "stream",
     "text": [
      "As letras ideais para serem proibidas são as que ocorrem na menor qtd de palavras, que são: ['q', 'j', 'x', 'z', 'w']\n"
     ]
    }
   ],
   "source": [
    "# combinacao que 5 letras q excluem a menor qtd de palavras\n",
    "letras = string.ascii_lowercase\n",
    "dct_count_letras = {}\n",
    "\n",
    "for letra in letras:\n",
    "    count = 0\n",
    "    \n",
    "    # verifica se a letra existe para cada palavra\n",
    "    for palavra in conteudo:\n",
    "        \n",
    "        if letra in palavra:  \n",
    "            count += 1\n",
    "            dct_count_letras[letra] = count\n",
    "\n",
    "# ordenando o dicionario do menor para o maior valor.\n",
    "# o parametro key recebe uma fç customizada para ordenacao. Neste caso, recebe cada tupla obtida\n",
    "# com o método items e ordena pelo segundo elemento da tupla, que é a qtd de palavras q cada letra ocorre\n",
    "sort_dct = dict(sorted(dct_count_letras.items(), key = lambda tupla: tupla[1]))\n",
    "ideal_letters_to_forbidden = dict(list(sort_dct.items())[:5])\n",
    "\n",
    "print(f'As letras ideais para serem proibidas são as que ocorrem na menor qtd de palavras, que são: {list(ideal_letters_to_forbidden.keys())}')"
   ]
  },
  {
   "cell_type": "markdown",
   "metadata": {},
   "source": [
    "##### Exercício 9.4\n",
    "Escreva uma função uses_only, que receba uma palavra e uma lista de letras, e retorne True se a palavra só contiver letras da lista "
   ]
  },
  {
   "cell_type": "code",
   "execution_count": null,
   "metadata": {},
   "outputs": [
    {
     "name": "stdout",
     "output_type": "stream",
     "text": [
      "appley usa sempre as letras da lista?: False\n",
      "apple usa sempre as letras da lista?: True\n"
     ]
    }
   ],
   "source": [
    "def uses_only(string: str, lst_letras: list[str]) -> bool:\n",
    "    '''Retorna True se a diferença entre as strings for vazia (ou seja, se todas as letras de string estiverem em lst_letras)'''\n",
    "    \n",
    "    return set(string).difference(lst_letras) == set()\n",
    "\n",
    "letras_list = ['a', 'p', 'l', 'e']\n",
    "words = ('appley', 'apple')\n",
    "\n",
    "for word in words:\n",
    "    print(f'{word} usa sempre as letras da lista?: {uses_only(word, letras_list)}')\n",
    "\n"
   ]
  },
  {
   "cell_type": "markdown",
   "metadata": {},
   "source": [
    "##### Exercício 9.5\n",
    "Escreva uma funcao chamada uses_all que receba uma palavra e uma série de letras obrigatórias e retorne True se a palavra usar todas as letras obrigatórias ao menos uma vez"
   ]
  },
  {
   "cell_type": "code",
   "execution_count": 78,
   "metadata": {},
   "outputs": [
    {
     "name": "stdout",
     "output_type": "stream",
     "text": [
      "appley usa todas as letras da lista?: True\n",
      "apple usa todas as letras da lista?: True\n",
      "appl usa todas as letras da lista?: False\n"
     ]
    }
   ],
   "source": [
    "def uses_all(string: str, lst_letras: list[str]|str) -> bool:\n",
    "    '''Verifica se a lista de letras é um subconjunto da string, isto é, se todas as letras de lst_letras estao em string'''\n",
    "     \n",
    "    return set(lst_letras).issubset(string)\n",
    "\n",
    "letras_list = ['a', 'p', 'l', 'e']\n",
    "words = ('appley', 'apple', 'appl')\n",
    "\n",
    "for word in words:\n",
    "    print(f'{word} usa todas as letras da lista?: {uses_all(word, letras_list)}')"
   ]
  },
  {
   "cell_type": "markdown",
   "metadata": {},
   "source": [
    "Quantas palavras da lista de palavras words.txt usam todas as vogais? aeiou"
   ]
  },
  {
   "cell_type": "code",
   "execution_count": 98,
   "metadata": {},
   "outputs": [
    {
     "name": "stdout",
     "output_type": "stream",
     "text": [
      "Total de palavras que usam todas as vogais: 598\n",
      "['aboideau', 'aboideaus', 'aboideaux', 'aboiteau', 'aboiteaus', 'aboiteaux', 'abstemious', 'abstemiously', 'accentuation', 'accentuations', 'accountabilities', 'accountancies', 'accoutering', 'adulteration', 'adulterations', 'adventitious', 'adventitiously', 'adventitiousness', 'adventitiousnesses', 'aerobium', 'aeronautic', 'aeronautical', 'aeronautically', 'aeronautics', 'agouties', 'ambidextrous', 'ambidextrously', 'antibourgeois', 'anticonsumer', 'antievolution', 'antievolutionary', 'antihomosexual', 'antireligious', 'antirevolutionary', 'antisubversion', 'antituberculosis', 'antiunemployment', 'armouries', 'arsenious', 'assiduousness', 'assiduousnesses', 'atrociousness', 'atrociousnesses', 'attenuation', 'attenuations', 'auctioned', 'auctioneer', 'auctioneers', 'auditioned', 'auditories', 'augmentation', 'augmentations', 'aureoling', 'authentication', 'authentications', 'authoritative', 'authoritatively', 'authorities', 'authorize', 'authorized', 'authorizes', 'autobiographer', 'autobiographers', 'autobiographies', 'autocracies', 'autogamies', 'autogenies', 'automobile', 'automobiles', 'automotive', 'autonomies', 'autopsied', 'autopsies', 'autotomies', 'autotypies', 'avoidupoises', 'beautification', 'beautifications', 'belabouring', 'bivouacked', 'boundaries', 'buoyancies', 'businesswoman', 'calamitousness', 'calamitousnesses', 'carnivorousness', 'carnivorousnesses', 'cauliflower', 'cauliflowers', 'cauterization', 'cauterizations', 'cautioned', 'cautiousness', 'cautiousnesses', 'chemotherapeutic', 'chemotherapeutical', 'chivalrousness', 'chivalrousnesses', 'coeducation', 'coeducational', 'coeducations', 'coequating', 'communicable', 'communicate', 'communicated', 'communicates', 'communicative', 'conceptualize', 'conceptualized', 'conceptualizes', 'conceptualizing', 'consequential', 'constabularies', 'continuance', 'continuances', 'contumacies', 'copulative', 'copulatives', 'countenancing', 'counteraccusation', 'counteraccusations', 'counteracting', 'counteraggression', 'counteraggressions', 'counterarguing', 'counterattacking', 'counterbalancing', 'countercampaign', 'countercampaigns', 'counterclaim', 'counterclaims', 'countercomplaint', 'countercomplaints', 'counterdemonstration', 'counterdemonstrations', 'counterguerrila', 'counterinflationary', 'countermanding', 'counterpropagation', 'counterpropagations', 'counterraid', 'counterraids', 'counterrallies', 'counterretaliation', 'counterretaliations', 'counterstrategies', 'demagogueries', 'denunciation', 'denunciations', 'deputation', 'deputations', 'desquamation', 'desquamations', 'devaluation', 'devaluations', 'dialogue', 'dialogued', 'dialogues', 'disadvantageous', 'discontinuance', 'discontinuances', 'discourage', 'discouraged', 'discouragement', 'discouragements', 'discourages', 'documentaries', 'documentation', 'documentations', 'edacious', 'education', 'educational', 'educations', 'efficacious', 'ejaculation', 'ejaculations', 'elucidation', 'elucidations', 'emasculatation', 'emasculatations', 'emulation', 'emulations', 'emulsification', 'emulsifications', 'enamouring', 'encouraging', 'enumeration', 'enumerations', 'enunciation', 'enunciations', 'equation', 'equations', 'equatorial', 'equivocal', 'equivocate', 'equivocated', 'equivocates', 'equivocating', 'equivocation', 'equivocations', 'eulogia', 'eulogiae', 'eulogias', 'euphoria', 'euphorias', 'evacuation', 'evacuations', 'evaluation', 'evaluations', 'evolutionary', 'excommunicate', 'excommunicated', 'excommunicates', 'excommunicating', 'excommunication', 'excommunications', 'exhaustion', 'exhaustions', 'exhumation', 'exhumations', 'expurgation', 'expurgations', 'extenuation', 'extenuations', 'extracommunity', 'extraconstitutional', 'exudation', 'exudations', 'facetious', 'facetiously', 'fastiduousness', 'fastiduousnesses', 'filamentous', 'fluoridate', 'fluoridated', 'fluoridates', 'fountained', 'fumatories', 'functionaries', 'gelatinous', 'genitourinary', 'graciousness', 'graciousnesses', 'gregarious', 'gregariously', 'gregariousness', 'gregariousnesses', 'gubernatorial', 'hallucinogen', 'hallucinogenic', 'hallucinogens', 'harmoniousness', 'harmoniousnesses', 'hippopotamuses', 'housecleaning', 'housecleanings', 'housemaid', 'housemaids', 'housewarming', 'housewarmings', 'hyperanxious', 'hypercautious', 'hyperfastidious', 'ignoramuses', 'importunate', 'incommensurate', 'incommunicable', 'inconsequential', 'inconsequentially', 'inconsumable', 'inoculate', 'inoculated', 'inoculates', 'insecuration', 'insecurations', 'insouciance', 'insouciances', 'instantaneous', 'instantaneously', 'institutionalize', 'instrumentation', 'instrumentations', 'insubordinate', 'insupportable', 'insurmounable', 'intercommunal', 'interinstitutional', 'intermolecular', 'intermountain', 'interpopulation', 'intravenous', 'intravenously', 'jalousie', 'jalousies', 'jealousies', 'lasciviousness', 'lasciviousnesses', 'leukopenia', 'liquefaction', 'liquefactions', 'loquacities', 'magnanimousness', 'magnanimousnesses', 'malfunctioned', 'malnourished', 'mendacious', 'mendaciously', 'menstruation', 'menstruations', 'miaoued', 'microminiature', 'microminiatures', 'microminiaturized', 'miscellaneous', 'miscellaneously', 'miscellaneousness', 'miscellaneousnesses', 'modularities', 'modularized', 'mortuaries', 'mountaineer', 'mountaineered', 'mountaineering', 'mountaineers', 'multidenominational', 'multidimensional', 'multidirectional', 'multimillionaire', 'multimodalities', 'nefarious', 'nefariouses', 'nefariously', 'neurological', 'neurologically', 'neuropathies', 'neurotically', 'neutralization', 'neutralizations', 'nitrosurea', 'noncommunicable', 'noncumulative', 'noneducational', 'nonindustrialized', 'nonintellectual', 'obduracies', 'obituaries', 'occupancies', 'ossuaries', 'ostentatious', 'ostentatiously', 'outbeaming', 'outbleating', 'outcapering', 'outcaviled', 'outcavilled', 'outcheating', 'outdistance', 'outdistanced', 'outdistances', 'outdreaming', 'outeating', 'outfeasting', 'outgained', 'outhearing', 'outlawries', 'outleaping', 'outlearning', 'outpainted', 'outpatient', 'outpatients', 'outraise', 'outraised', 'outraises', 'outreaching', 'outreading', 'outrivaled', 'outrivalled', 'outsailed', 'outspeaking', 'outswearing', 'outwaited', 'outwearied', 'outwearies', 'outwearing', 'outwearying', 'overambitious', 'overanxious', 'overarousing', 'overcautious', 'overeducating', 'overenthusiastic', 'overexhausting', 'overfatigue', 'overfatigued', 'overfatigues', 'overfatiguing', 'overhauling', 'overparticular', 'overqualified', 'overregulating', 'overregulation', 'overregulations', 'oversaturating', 'overstimulate', 'overstimulated', 'overstimulates', 'overstimulating', 'overvaluing', 'pandemonium', 'pandemoniums', 'pasteurization', 'pasteurizations', 'peculatation', 'peculatations', 'perambulation', 'perambulations', 'perpetuation', 'perpetuations', 'perspicacious', 'persuasion', 'persuasions', 'pertinacious', 'perturbation', 'perturbations', 'plutocracies', 'pneumonia', 'popularities', 'popularize', 'popularized', 'popularizes', 'portraiture', 'portraitures', 'postrevolutionary', 'preauthorize', 'preauthorized', 'preauthorizes', 'preauthorizing', 'precarious', 'precariously', 'precariousness', 'precariousnesses', 'precaution', 'precautionary', 'precautions', 'preimmunization', 'preimmunizations', 'preinoculate', 'preinoculated', 'preinoculates', 'preinoculating', 'preinoculation', 'preoccupation', 'preoccupations', 'prepublication', 'prerevolutionary', 'pressurization', 'pressurizations', 'proteinuria', 'purgatories', 'putrefaction', 'putrefactions', 'questionable', 'questionnaire', 'questionnaires', 'questionniare', 'questionniares', 'radionuclide', 'radionuclides', 'rapaciousness', 'rapaciousnesses', 'rearousing', 'recapitulation', 'recapitulations', 'recirculation', 'recirculations', 'recuperation', 'recuperations', 'reevaluation', 'reevaluations', 'reformulating', 'refutation', 'refutations', 'regulation', 'regulations', 'regurgitation', 'regurgitations', 'reinoculate', 'reinoculated', 'reinoculates', 'reinoculating', 'rejuvenation', 'rejuvenations', 'remuneration', 'remunerations', 'renunciation', 'renunciations', 'repopulating', 'repudiation', 'repudiations', 'repudiator', 'repudiators', 'reputation', 'reputations', 'resuscitation', 'resuscitations', 'resuscitator', 'resuscitators', 'revolutionaries', 'revolutionary', 'sacrilegious', 'sacrilegiously', 'sautoire', 'sautoires', 'savourier', 'savouries', 'savouriest', 'scabiouses', 'sequoia', 'sequoias', 'simultaneous', 'simultaneously', 'simultaneousness', 'simultaneousnesses', 'somersaulting', 'spaciousness', 'spaciousnesses', 'speculation', 'speculations', 'stupefaction', 'stupefactions', 'subatmospheric', 'subcategories', 'subequatorial', 'suboceanic', 'subordinate', 'subordinated', 'subordinates', 'subpoenaing', 'sudatories', 'superambitious', 'superpatriot', 'superpatriotic', 'superpatriotism', 'superpatriotisms', 'superpatriots', 'tambourine', 'tambourines', 'tenacious', 'tenaciously', 'thiourea', 'thioureas', 'ulceration', 'ulcerations', 'ultraviolet', 'unaccompanied', 'unauthorized', 'unavoidable', 'uncomplimentary', 'unconscionable', 'unconventional', 'unconventionally', 'uncooperative', 'uncoordinated', 'undemocratic', 'undomesticated', 'unemotional', 'unequivocal', 'unequivocally', 'unforgivable', 'unidirectional', 'unintentional', 'unintentionally', 'unmotivated', 'unnojectionable', 'unnoticeable', 'unobtainable', 'unorganized', 'unpopularities', 'unprofessional', 'unprofitable', 'unquestionable', 'unquestionably', 'unreasoning', 'unsophisticated', 'veracious', 'vexatious', 'vicariousness', 'vicariousnesses', 'villianousness', 'villianousnesses', 'vituperation', 'vituperations', 'vivaciousness', 'vivaciousnesses', 'vocabularies', 'voraciousness', 'voraciousnesses', 'warehousing']\n"
     ]
    }
   ],
   "source": [
    "with open(DATA_PATH, 'r') as file:\n",
    "    words_list = file.read().split('\\n')[:-1]\n",
    "\n",
    "uses_all_vowels = list(filter(lambda word: uses_all(word, 'aeiou'), words_list))\n",
    "print(f'Total de palavras que usam todas as vogais: {len(uses_all_vowels)}\\n{uses_all_vowels}')"
   ]
  },
  {
   "cell_type": "markdown",
   "metadata": {},
   "source": [
    "##### Exercício 9.6\n",
    "Escreva uma função chamada is_abecederian que retorne True se as letras numa palavra aparecem em ordem alfabética (tudo bem aparecerem letras duplas). Quantas palavras em ordem alfabética existem em words.txt?"
   ]
  },
  {
   "cell_type": "code",
   "execution_count": 101,
   "metadata": {},
   "outputs": [
    {
     "name": "stdout",
     "output_type": "stream",
     "text": [
      "Qtd de palavras abecederianas: 1\n",
      "['abc']\n"
     ]
    }
   ],
   "source": [
    "import string\n",
    "\n",
    "def is_abecederian(word: str) -> bool:\n",
    "    \n",
    "    # gera uma string contendo o alfabeto, com as letras em ordem já\n",
    "    alfabeto = string.ascii_lowercase\n",
    "\n",
    "    # combina as letras de word com as letras do alfabeto em uma lista de tuplas\n",
    "    letter_pairs = list(zip(word, alfabeto))\n",
    "    \n",
    "    # verifica se as letras de word estao na mesma ordem das letras do alfabeto\n",
    "    # isto é, os itens de todas as tupla precisam ser iguais\n",
    "    return all(tupla[0] == tupla[1] for tupla in letter_pairs)\n",
    "\n",
    "\n",
    "# abre o arquivo, le o conteudo e cria uma lista\n",
    "with open(DATA_PATH, 'r') as file:\n",
    "    words_list = file.read().split('\\n')[:-1]\n",
    "\n",
    "# incluindo uma nova palavra 'abc' para testar\n",
    "words_list.append('abc')\n",
    "\n",
    "# filtra as palavras abecederianas\n",
    "palavras_abecederianas = list(filter(is_abecederian, words_list))\n",
    "\n",
    "# percorre cada palavra da lista e verifica se ela é abecederiana\n",
    "print(f'Qtd de palavras abecederianas: {len(palavras_abecederianas)}\\n{palavras_abecederianas}')\n",
    "\n"
   ]
  },
  {
   "cell_type": "markdown",
   "metadata": {},
   "source": [
    "##### Exercício 9.7\n",
    "Crie uma funcao car_talk que identifique palavras que possuem 3 letras duplas consecutivas em words.txt, ex: aabbcc"
   ]
  }
 ],
 "metadata": {
  "kernelspec": {
   "display_name": ".venv",
   "language": "python",
   "name": "python3"
  },
  "language_info": {
   "codemirror_mode": {
    "name": "ipython",
    "version": 3
   },
   "file_extension": ".py",
   "mimetype": "text/x-python",
   "name": "python",
   "nbconvert_exporter": "python",
   "pygments_lexer": "ipython3",
   "version": "3.11.5"
  }
 },
 "nbformat": 4,
 "nbformat_minor": 2
}
