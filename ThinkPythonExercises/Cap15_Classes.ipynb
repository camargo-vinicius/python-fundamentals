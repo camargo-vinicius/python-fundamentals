{
 "cells": [
  {
   "cell_type": "markdown",
   "metadata": {},
   "source": [
    "### Classes\n",
    "Classes são tipos definidos pelo programador"
   ]
  },
  {
   "cell_type": "markdown",
   "metadata": {},
   "source": [
    "Podemos por exemplo definir uma classe chamada Point, como feito abaixo"
   ]
  },
  {
   "cell_type": "code",
   "execution_count": null,
   "metadata": {},
   "outputs": [
    {
     "data": {
      "text/plain": [
       "__main__.Point"
      ]
     },
     "execution_count": 1,
     "metadata": {},
     "output_type": "execute_result"
    }
   ],
   "source": [
    "class Point: # to define a class, use the keyword class followed by the name of the class in camel case\n",
    "    '''Represents a point in 2D geometric coordinates'''\n",
    "\n",
    "Point"
   ]
  },
  {
   "cell_type": "markdown",
   "metadata": {},
   "source": [
    "A definição de classes cria um *objeto de classe*. Um objeto de classe é uma fábrica para criar objetos, pois podemos usar elas pra instanciar objetos do tipo Point.\n",
    "\n",
    "Criar um objeto se chama 'Instanciação' e um objeto é uma instância da classe. Logo, instância e objeto podem ser usados de forma intercambiáveis. "
   ]
  },
  {
   "cell_type": "code",
   "execution_count": 2,
   "metadata": {},
   "outputs": [
    {
     "data": {
      "text/plain": [
       "__main__.Point"
      ]
     },
     "execution_count": 2,
     "metadata": {},
     "output_type": "execute_result"
    }
   ],
   "source": [
    "# to create an object of the class, use the class name followed by parentheses\n",
    "point = Point()\n",
    "\n",
    "type(point)"
   ]
  },
  {
   "cell_type": "markdown",
   "metadata": {},
   "source": [
    "we can now atributte values for point as show below"
   ]
  },
  {
   "cell_type": "code",
   "execution_count": 3,
   "metadata": {},
   "outputs": [],
   "source": [
    "# create attributes for the object. For this, we use the dot notation\n",
    "point.x = 3.0\n",
    "point.y = 4.0"
   ]
  },
  {
   "cell_type": "markdown",
   "metadata": {},
   "source": [
    "to access an atributte, we use the same notation"
   ]
  },
  {
   "cell_type": "code",
   "execution_count": 6,
   "metadata": {},
   "outputs": [
    {
     "name": "stdout",
     "output_type": "stream",
     "text": [
      "The point is at (3.0, 4.0)\n"
     ]
    }
   ],
   "source": [
    "print(f'The point is at ({point.x}, {point.y})')"
   ]
  },
  {
   "cell_type": "markdown",
   "metadata": {},
   "source": [
    "also, we can use attributes inside functions and in other expressions"
   ]
  },
  {
   "cell_type": "code",
   "execution_count": null,
   "metadata": {},
   "outputs": [
    {
     "name": "stdout",
     "output_type": "stream",
     "text": [
      "The point is at (3.0, 4.0)\n"
     ]
    }
   ],
   "source": [
    "# example of a function that takes a point object as an argument\n",
    "def print_point(p):\n",
    "    '''This function takes a point object and prints its coordinates.\n",
    "    Here p is an alias for the object passed to the function'''\n",
    "\n",
    "    print(f'The point is at ({p.x}, {p.y})')\n",
    "\n",
    "print_point(point)"
   ]
  },
  {
   "cell_type": "code",
   "execution_count": 9,
   "metadata": {},
   "outputs": [
    {
     "name": "stdout",
     "output_type": "stream",
     "text": [
      "The distance from the origin to the point is 5.0\n"
     ]
    }
   ],
   "source": [
    "# example of using atrributes to return a value\n",
    "\n",
    "distance = (point.x ** 2 + point.y ** 2) ** 0.5\n",
    "print(f'The distance from the origin to the point is {distance}')"
   ]
  },
  {
   "cell_type": "code",
   "execution_count": 10,
   "metadata": {},
   "outputs": [
    {
     "name": "stdout",
     "output_type": "stream",
     "text": [
      "The distance between the two points is 5.0\n"
     ]
    }
   ],
   "source": [
    "# defining the function\n",
    "def distance_between_points(p1, p2):\n",
    "    '''This function takes two points and returns the distance between them'''\n",
    "\n",
    "    dx = p2.x - p1.x\n",
    "    dy = p2.y - p1.y\n",
    "    distance = (dx ** 2 + dy ** 2) ** 0.5\n",
    "    \n",
    "    return distance\n",
    "\n",
    "# creating a function that returns the distance between two points\n",
    "p1 = Point()\n",
    "p2 = Point()\n",
    "\n",
    "# assign values to the attributes of the objects\n",
    "p1.x = 3.0\n",
    "p1.y = 4.0\n",
    "p2.x = 6.0\n",
    "p2.y = 8.0\n",
    "\n",
    "print(f'The distance between the two points is {distance_between_points(p1, p2)}')"
   ]
  },
  {
   "cell_type": "markdown",
   "metadata": {},
   "source": [
    "##### Objetos integrados\n",
    "São objetos que são atributos de outros objetos. Por exemplo, podemos criar um classe para instanciar um retangulo, que possui como atributos width e height que são floats e corner que é um objeto do tipo Point"
   ]
  },
  {
   "cell_type": "code",
   "execution_count": 29,
   "metadata": {},
   "outputs": [],
   "source": [
    "class Rectangle:\n",
    "    '''Represents a rectangle'''\n",
    "\n",
    "# create an object of the class\n",
    "box = Rectangle()\n",
    "\n",
    "# create attributes width and height\n",
    "box.width = 100.0\n",
    "box.height = 200.0\n",
    "\n",
    "# create an object of the class Point to represent the corner of the rectangle\n",
    "box.corner = Point()\n",
    "\n",
    "# now assign values to the attributes of the corner object. 'box.corner' is an object of the Point class\n",
    "box.corner.x = 0.0\n",
    "box.corner.y = 0.0"
   ]
  },
  {
   "cell_type": "markdown",
   "metadata": {},
   "source": [
    "##### Instancias como valores de retorno\n",
    "Dentro das funções, podemos ter objetos como valores de retorno. No exemplo abaixo, iremos criar uma função que a partir do objeto box do tipo Rectangle determina o centro do retangulo"
   ]
  },
  {
   "cell_type": "code",
   "execution_count": null,
   "metadata": {},
   "outputs": [
    {
     "name": "stdout",
     "output_type": "stream",
     "text": [
      "The point is at (50.0, 100.0)\n"
     ]
    }
   ],
   "source": [
    "def find_center(box: Rectangle) -> Point:\n",
    "    '''This function takes a rectangle object and returns the center of the rectangle'''\n",
    "    \n",
    "    # inside the function, create an object of the class Point\n",
    "    p = Point()\n",
    "    p.x = box.corner.x + box.width / 2\n",
    "    p.y = box.corner.y + box.height / 2\n",
    "\n",
    "    return p # returning an object of the class Point\n",
    "\n",
    "center = find_center(box)\n",
    "print_point(center)"
   ]
  },
  {
   "cell_type": "markdown",
   "metadata": {},
   "source": [
    "#### Mutabilidade de objetos\n",
    "Podemos alterar os valores dos atributos de um objeto"
   ]
  },
  {
   "cell_type": "code",
   "execution_count": null,
   "metadata": {},
   "outputs": [
    {
     "name": "stdout",
     "output_type": "stream",
     "text": [
      "Before growing, the width and height of the rectangle are 100.0 and 200.0\n",
      "\n",
      "After growing, the width and height of the rectangle are 150.0 and 300.0\n"
     ]
    }
   ],
   "source": [
    "# creating a function that modifies the size of rectangle\n",
    "def grow_rectangle(rect: Rectangle, dwidth: float, dheight: float) -> None:\n",
    "    '''This function takes a rectangle object and increases its width and height by the given amounts.\n",
    "    We don't need to return anything as the object is modified in place\n",
    "    \n",
    "    Rect is an alias for box. So, any changes made to rect will be reflected in box'''\n",
    "\n",
    "    rect.width += dwidth\n",
    "    rect.height += dheight\n",
    "\n",
    "print(f'Before growing, the width and height of the rectangle are {box.width} and {box.height}\\n')\n",
    "\n",
    "grow_rectangle(box, 50, 100)\n",
    "\n",
    "print(f'After growing, the width and height of the rectangle are {box.width} and {box.height}')"
   ]
  },
  {
   "cell_type": "code",
   "execution_count": 28,
   "metadata": {},
   "outputs": [
    {
     "name": "stdout",
     "output_type": "stream",
     "text": [
      "Before moving, the corner of the rectangle is at (30.0, 60.0)\n",
      "\n",
      "After moving, the corner of the rectangle is at (40.0, 80.0)\n"
     ]
    }
   ],
   "source": [
    "# creating a function that moves the rectangle by the given amounts\n",
    "def move_rectangle(rect: Rectangle, dx: float, dy: float) -> Rectangle:\n",
    "    '''This function takes a rectangle object and moves it by the given amounts'''\n",
    "\n",
    "    rect.corner.x += dx\n",
    "    rect.corner.y += dy\n",
    "\n",
    "print(f'Before moving, the corner of the rectangle is at ({box.corner.x}, {box.corner.y})\\n')\n",
    "\n",
    "move_rectangle(rect=box, dx=10, dy=20)\n",
    "\n",
    "print(f'After moving, the corner of the rectangle is at ({box.corner.x}, {box.corner.y})')"
   ]
  },
  {
   "cell_type": "markdown",
   "metadata": {},
   "source": [
    "##### Cópia\n",
    "O uso de alias pode tornar o programa díficil de ler e apresentar comportamentos inesperados. Podemos criar cópias dos nossos objetos usando o módulo copy"
   ]
  },
  {
   "cell_type": "code",
   "execution_count": null,
   "metadata": {},
   "outputs": [
    {
     "name": "stdout",
     "output_type": "stream",
     "text": [
      "The point is at (3.0, 4.0)\n",
      "\n",
      "p1 is p3: False\n",
      "\n",
      "p1 == p3: False\n"
     ]
    }
   ],
   "source": [
    "# using the copy module to create a copy of an object\n",
    "import copy\n",
    "\n",
    "p3 = copy.copy(p1)\n",
    "print_point(p3)\n",
    "\n",
    "print(f'\\np1 is p3: {p1 is p3}\\n') # result: False, because the is operator indicates that p1 and p3 are not the same object\n",
    "print(f'p1 == p3: {p1 == p3}') # result: False, because even if '==' checks if the values are the same, this behaviour is different for instancies (types created by classes).\n",
    "# for instancies, '==' checks if the references are the same, not the values"
   ]
  },
  {
   "cell_type": "markdown",
   "metadata": {},
   "source": [
    "Entretanto, o uso de copy.copy() com objetos que possuem outros objetos integrados faz uma cópia superficial. Logo, para os objetos integrados, como Point dentro do objeto rectangle, não são criados cópias e basicamente temos dois retangulos \"diferentes\" compartilhando o mesmo objeto integrado. Logo, qualquer alteração no atributo 'corner' irá afetar ambos os retangulos "
   ]
  },
  {
   "cell_type": "code",
   "execution_count": null,
   "metadata": {},
   "outputs": [
    {
     "name": "stdout",
     "output_type": "stream",
     "text": [
      "box is box2: False\n",
      "box.corner is box2.corner: True\n"
     ]
    }
   ],
   "source": [
    "box2 = copy.copy(box)\n",
    "\n",
    "print(f'box is box2: {box is box2}') # result: False, because box2 is a copy of box, not the same object\n",
    "print(f'box.corner is box2.corner: {box.corner is box2.corner}') # result: True, because the corner attribute of box2 is a copy of the corner attribute of box. \n",
    "                                                                 # Integrated attributes are not copied                                                                 "
   ]
  },
  {
   "cell_type": "code",
   "execution_count": 24,
   "metadata": {},
   "outputs": [
    {
     "name": "stdout",
     "output_type": "stream",
     "text": [
      "\n",
      "box width: 150.0 and box height: 300.0\n",
      "box2 width: 250.0 and box2 height: 500.0\n",
      "\n",
      "box corner: (30.0, 60.0)\n",
      "\n",
      "box2 corner: (30.0, 60.0)\n"
     ]
    }
   ],
   "source": [
    "# using move_rectangle and grow_rectangle functions with box2 to see the effect on box\n",
    "\n",
    "grow_rectangle(box2, 50, 100) # affects only box2\n",
    "\n",
    "print(f'\\nbox width: {box.width} and box height: {box.height}')\n",
    "print(f'box2 width: {box2.width} and box2 height: {box2.height}')\n",
    "\n",
    "\n",
    "move_rectangle(box2, 10, 20) # affects both box2 and box becasuse for integrated objects we don't create a copy\n",
    "print(f'\\nbox corner: ({box.corner.x}, {box.corner.y})\\n')\n",
    "print(f'box2 corner: ({box2.corner.x}, {box2.corner.y})')\n"
   ]
  },
  {
   "cell_type": "markdown",
   "metadata": {},
   "source": [
    "Para criar uma cópia completa ou *profunda*, temos que usar o método deepcopy"
   ]
  },
  {
   "cell_type": "code",
   "execution_count": 26,
   "metadata": {},
   "outputs": [
    {
     "name": "stdout",
     "output_type": "stream",
     "text": [
      "box is box2: False\n",
      "box.corner is box2.corner: False\n"
     ]
    }
   ],
   "source": [
    "box2 = copy.deepcopy(box)\n",
    "\n",
    "print(f'box is box2: {box is box2}') # result: False, because box2 is a copy of box, not the same object\n",
    "print(f'box.corner is box2.corner: {box.corner is box2.corner}') # result: False, because we use a deepcopy, so the corner attribute of box2 is a copy of the corner attribute of box.                                                              "
   ]
  },
  {
   "cell_type": "code",
   "execution_count": null,
   "metadata": {},
   "outputs": [
    {
     "name": "stdout",
     "output_type": "stream",
     "text": [
      "\n",
      "old box corner: (0.0, 0.0)\n",
      "\n",
      "new box corner: (10.0, 20.0)\n"
     ]
    }
   ],
   "source": [
    "def new_move_rectangle(rect: Rectangle, dx: float, dy: float) -> Rectangle:\n",
    "    '''This function takes a rectangle object, creates a new one and moves it by the given amounts'''\n",
    "\n",
    "    # creating a deep copy of existing rectangle\n",
    "    new_rect = copy.deepcopy(rect)\n",
    "\n",
    "    # these changes will only affect the new rectangle because we are using a deepcopy\n",
    "    new_rect.corner.x += dx\n",
    "    new_rect.corner.y += dy\n",
    "\n",
    "    # in this case, we need returning the new rectangle, since we are not modifying the original one\n",
    "    return new_rect\n",
    "\n",
    "\n",
    "new_box = new_move_rectangle(box, 10, 20)\n",
    "print(f'\\nold box corner: ({box.corner.x}, {box.corner.y})\\n')\n",
    "print(f'new box corner: ({new_box.corner.x}, {new_box.corner.y})')"
   ]
  },
  {
   "cell_type": "markdown",
   "metadata": {},
   "source": [
    "##### Exerecício 15.1\n",
    "Escreva uma definição de classe chamada Circle, com os atributos center, que é um objeto Point, e radius, que é um número, e instancie um circulo com centro em (150, 100) e raio 75 "
   ]
  },
  {
   "cell_type": "code",
   "execution_count": 40,
   "metadata": {},
   "outputs": [
    {
     "data": {
      "text/plain": [
       "(150, 100, 75)"
      ]
     },
     "execution_count": 40,
     "metadata": {},
     "output_type": "execute_result"
    }
   ],
   "source": [
    "class Point:\n",
    "    '''Represents a point in 2D geometric coordinates'''\n",
    "\n",
    "    def __init__(self, x=0, y=0):\n",
    "        '''Initializes the object with the given coordinates'''\n",
    "        self.x = x\n",
    "        self.y = y\n",
    "\n",
    "class Circle:\n",
    "    '''Represents a circle'''\n",
    "\n",
    "    def __init__(self, center=point, radius=0):\n",
    "        '''Initializes the object with the given center and radius'''\n",
    "        self.center = center\n",
    "        self.radius = radius\n",
    "\n",
    "center_point = Point(150, 100)\n",
    "\n",
    "circle = Circle(center=center_point, radius=75)\n",
    "\n",
    "circle.center.x, circle.center.y, circle.radius\n"
   ]
  },
  {
   "cell_type": "markdown",
   "metadata": {},
   "source": [
    "Escreva agora uma função point_in_circle que receba um point e um circle e avalie se o point está dentro ou no limite de circle"
   ]
  },
  {
   "cell_type": "code",
   "execution_count": 46,
   "metadata": {},
   "outputs": [
    {
     "name": "stdout",
     "output_type": "stream",
     "text": [
      "Is p1 inside the circle? False\n",
      "Is p2 inside the circle? True\n"
     ]
    }
   ],
   "source": [
    "def point_in_circle(point: Point, circle: Circle) -> bool:\n",
    "    '''This function takes a point and a circle and returns True if the point lies inside the circle'''\n",
    "\n",
    "    dx = point.x - circle.center.x\n",
    "    dy = point.y - circle.center.y\n",
    "    distance = (dx ** 2 + dy ** 2) ** 0.5\n",
    "\n",
    "    return distance <= circle.radius\n",
    "\n",
    "p1 = Point(2000, 2000)\n",
    "p2 = Point(150, 160)\n",
    "\n",
    "print(f'''Is p1 inside the circle? {point_in_circle(p1, circle)}\n",
    "Is p2 inside the circle? {point_in_circle(p2, circle)}''')\n"
   ]
  },
  {
   "cell_type": "markdown",
   "metadata": {},
   "source": [
    "Escreva uma função rect_in_circle que receba um retangulo e avalie se o retangulo está totalmente dentro do circle, retornando True ou False\n",
    "Para isso, precisamos avaliar se a distancia do centro do retangulo para cada corner do retangulo é maior que o raio do circle\n",
    "\n",
    "Depois, escreva uma função que avalie se alguma parte do retangulo cair dentro do circulo\n",
    "Aqui, basta avaliarmos se pelo menos um dos corners cai dentro do circle (uso do operador logico or)"
   ]
  },
  {
   "cell_type": "code",
   "execution_count": null,
   "metadata": {},
   "outputs": [
    {
     "name": "stdout",
     "output_type": "stream",
     "text": [
      "Is the rectangle 1 all inside the circle? True\n",
      "\n",
      "At least one of the corners of rectangle 2 is inside the circle? True\n"
     ]
    }
   ],
   "source": [
    "class Rectanglev2:\n",
    "    '''Represents a rectangle.'''\n",
    "\n",
    "    def __init__(self, width, height, corner=Point(0, 0)):\n",
    "        '''Initializes the object with the given bottom-left corner, width, and height.'''\n",
    "        self.corner1 = corner  # bottom-left corner\n",
    "        self.width = width\n",
    "        self.height = height\n",
    "\n",
    "    @property # this is a decorator that allows us to define a method that can be accessed as an attribute\n",
    "    def corner2(self):\n",
    "        '''Calculates and returns the bottom-right corner.'''\n",
    "        return Point(self.corner1.x + self.width, self.corner1.y)\n",
    "\n",
    "    @property\n",
    "    def corner3(self):\n",
    "        '''Calculates and returns the top-right corner.'''\n",
    "        return Point(self.corner1.x + self.width, self.corner1.y + self.height)\n",
    "\n",
    "    @property\n",
    "    def corner4(self):\n",
    "        '''Calculates and returns the top-left corner.'''\n",
    "        return Point(self.corner1.x, self.corner1.y + self.height)\n",
    "    \n",
    "\n",
    "def rect_in_circle(circle: Circle, rect: Rectanglev2) -> bool:\n",
    "    '''This function takes a circle and a rectangle and returns True if the rectangle lies inside the circle'''\n",
    "\n",
    "    # check if all the corners of the rectangle lie inside the circle\n",
    "    return (point_in_circle(rect.corner1, circle) \n",
    "        and point_in_circle(rect.corner2, circle) \n",
    "        and point_in_circle(rect.corner3, circle) \n",
    "        and point_in_circle(rect.corner4, circle))\n",
    "\n",
    "def rect_corner_in_circle(circle: Circle, rect: Rectanglev2) -> bool:\n",
    "    '''This function takes a circle and a rectangle and returns True if at least one of the corners lies inside the circle'''\n",
    "\n",
    "    # check if at least one of the corners of the rectangle lie inside the circle\n",
    "    return (point_in_circle(rect.corner1, circle) \n",
    "         or point_in_circle(rect.corner2, circle) \n",
    "         or point_in_circle(rect.corner3, circle) \n",
    "         or point_in_circle(rect.corner4, circle))\n",
    "    \n",
    "\n",
    "circle = Circle(center=Point(200, 300), radius=75)\n",
    "\n",
    "rect1 = Rectanglev2(5, 5, Point(200, 300))\n",
    "rect2 = Rectanglev2(width=2000, height=2000, corner=Point(200, 300))\n",
    "\n",
    "print(f'Is the rectangle 1 all inside the circle? {rect_in_circle(circle, rect1)}\\n')\n",
    "print(f'At least one of the corners of rectangle 2 is inside the circle? {rect_corner_in_circle(circle, rect2)}')"
   ]
  },
  {
   "cell_type": "markdown",
   "metadata": {},
   "source": [
    "##### Usando decorators dentro da classe Circle"
   ]
  },
  {
   "cell_type": "code",
   "execution_count": 73,
   "metadata": {},
   "outputs": [
    {
     "name": "stdout",
     "output_type": "stream",
     "text": [
      "The area of the circle is 17671.44375\n",
      "\n",
      "The value of pi is 3.14159\n",
      "\n",
      "The radius of the unit circle is 1\n"
     ]
    }
   ],
   "source": [
    "class Circle:\n",
    "    '''Represents a circle'''\n",
    "\n",
    "    def __init__(self, center=point, radius=0):\n",
    "        '''Initializes the object with the given center and radius'''\n",
    "        self.center = center\n",
    "        self.radius = radius\n",
    "\n",
    "    @property\n",
    "    def area(self):\n",
    "        '''Calculates and returns the area of the circle'''\n",
    "        return self.pi() * self.radius ** 2\n",
    "    \n",
    "    @staticmethod # this is a decorator that allows us to define a method that doesn't take self as an argument. It’s not really dependent on the Circle class\n",
    "    def pi():\n",
    "        '''Returns the value of pi'''\n",
    "        return 3.14159\n",
    "    \n",
    "    @classmethod # this is a decorator that allows us to define a method that takes cls as an argument. It works with the class and not the instance\n",
    "    def unit_circle(cls):\n",
    "        '''Returns a circle with radius 1'''\n",
    "        return cls(radius=1) \n",
    "\n",
    "circle = Circle(center=Point(150, 100), radius=75)\n",
    "\n",
    "print(f'The area of the circle is {circle.area}\\n')\n",
    "print(f'The value of pi is {Circle.pi()}\\n')\n",
    "\n",
    "circle_unit = Circle.unit_circle()\n",
    "print(f'The radius of the unit circle is {circle_unit.radius}')"
   ]
  }
 ],
 "metadata": {
  "kernelspec": {
   "display_name": ".venv",
   "language": "python",
   "name": "python3"
  },
  "language_info": {
   "codemirror_mode": {
    "name": "ipython",
    "version": 3
   },
   "file_extension": ".py",
   "mimetype": "text/x-python",
   "name": "python",
   "nbconvert_exporter": "python",
   "pygments_lexer": "ipython3",
   "version": "3.11.5"
  }
 },
 "nbformat": 4,
 "nbformat_minor": 2
}
