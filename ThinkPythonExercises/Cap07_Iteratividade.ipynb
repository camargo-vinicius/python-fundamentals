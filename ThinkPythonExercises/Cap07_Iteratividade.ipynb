{
 "cells": [
  {
   "cell_type": "markdown",
   "metadata": {},
   "source": [
    "##### Exercício 7.1\n",
    "\n",
    "Escreva a equação do metodo de Newton para cálculo da raiz quadrada de um número a\n",
    "\n",
    "$$\n",
    "y = \\frac{x + \\frac{a}{x}}{2}\n",
    "$$\n",
    "\n",
    "em uma funcao"
   ]
  },
  {
   "cell_type": "code",
   "execution_count": null,
   "metadata": {},
   "outputs": [
    {
     "name": "stdout",
     "output_type": "stream",
     "text": [
      "2.0000000000262146\n"
     ]
    }
   ],
   "source": [
    "a = 4 # número que queremos obter a raiz\n",
    "x = 3 # estimativa\n",
    "\n",
    "# forma 1:\n",
    "y = (x + a / x) / 2\n",
    "\n",
    "while abs(y - x) > 0.0001:\n",
    "    x = y\n",
    "    y = (x + a / x) / 2\n",
    "\n",
    "print(y)"
   ]
  },
  {
   "cell_type": "code",
   "execution_count": null,
   "metadata": {},
   "outputs": [
    {
     "name": "stdout",
     "output_type": "stream",
     "text": [
      "Raiz quadrada de 9 pelo método de Newton é: 3.000000001396984\n"
     ]
    }
   ],
   "source": [
    "# forma 2\n",
    "def calcula_sqrt(a: int, x: int) -> float|None:\n",
    "    \n",
    "    if x <= a:\n",
    "        \n",
    "        while True:\n",
    "            \n",
    "            # calcula o resultado aprox em cada loop\n",
    "            y = (x + a / x) / 2\n",
    "\n",
    "            # verifica se a diferenca entre resultado e estimativa é menor que um threshold\n",
    "            if abs(y - x) < 0.0001:\n",
    "                break\n",
    "\n",
    "            # atualiza o valor de x pro prox loop\n",
    "            x = y\n",
    "\n",
    "        return y\n",
    "\n",
    "    else:\n",
    "        print(f'Estimativa deve ser menor do que o valor do número m')\n",
    "\n",
    "\n",
    "n, m = 9, 1\n",
    "resultado = calcula_sqrt(n, m)\n",
    "\n",
    "if isinstance(resultado, float):\n",
    "    print(f'Raiz quadrada de {n} pelo método de Newton é: {resultado}')\n",
    "\n"
   ]
  },
  {
   "cell_type": "code",
   "execution_count": null,
   "metadata": {},
   "outputs": [
    {
     "name": "stdout",
     "output_type": "stream",
     "text": [
      "a\tmysqrt(a)           \tmath.sqrt(a)        \tdiff                \n",
      "--------------------------------------------------------------------------------\n",
      "1\t1.000000000000001   \t1.0                 \t1.1102230246251565e-15\n",
      "2\t1.4142135623746899  \t1.4142135623730951  \t1.5947243525715749e-12\n",
      "3\t1.7320508075736647  \t1.7320508075688772  \t4.7875037267886e-12\n",
      "4\t2.0                 \t2.0                 \t0.0\n",
      "5\t2.236067977499793   \t2.23606797749979    \t3.1086244689504383e-15\n",
      "6\t2.4494897427834177  \t2.449489742783178   \t2.398081733190338e-13\n",
      "7\t2.645751311069774   \t2.6457513110645907  \t5.183409257369931e-12\n",
      "8\t2.828427124799438   \t2.8284271247461903  \t5.324762852865206e-11\n",
      "9\t3.000000000336842   \t3.0                 \t3.3684210976048234e-10\n"
     ]
    }
   ],
   "source": [
    "from math import sqrt\n",
    "\n",
    "# montando uma tabuada\n",
    "\n",
    "print(f\"a\\t{'mysqrt(a)':<20}\\t{'math.sqrt(a)':<20}\\t{'diff':<20}\\n{80 * '-'}\")\n",
    "\n",
    "for a in range(1, 10):\n",
    "\n",
    "    x = a - 0.5 # estimativa\n",
    "\n",
    "    # calculo das raizes usando minha funcao e a do modulo math\n",
    "    my_sqrt = calcula_sqrt(a, x)\n",
    "    math_sqrt = sqrt(a) \n",
    "\n",
    "    print(f'{a}\\t{my_sqrt:<20}\\t{math_sqrt:<20}\\t{my_sqrt - math_sqrt}')"
   ]
  },
  {
   "cell_type": "markdown",
   "metadata": {},
   "source": [
    "##### Exercício 7.2\n",
    "Escreva um programa em que o usr digite uma expressão e o uso da fc integrada eval calcule o resultado. O processo deve se repetir até que o usr digite 'done'"
   ]
  },
  {
   "cell_type": "code",
   "execution_count": 50,
   "metadata": {},
   "outputs": [
    {
     "name": "stdout",
     "output_type": "stream",
     "text": [
      "1 + 2 = 3\n",
      "5 + 4 = 9\n",
      "2 * 5 = 10\n",
      "4 / 3 = 1.3333333333333333\n",
      "5 - 3 = 2\n",
      "name 'math' is not defined\n",
      "a + 5 = 14\n",
      "name 'r' is not defined\n",
      "Fim programa.\n"
     ]
    }
   ],
   "source": [
    "while True:\n",
    "    \n",
    "    try:\n",
    "        exp = input('Digite uma expressão: ').lower().strip()\n",
    "        \n",
    "        if exp == 'done':\n",
    "            break\n",
    "\n",
    "        print(f'{exp} = {eval(exp)}')\n",
    "\n",
    "    except Exception as e:\n",
    "        print(e)\n",
    "        \n",
    "\n",
    "print('Fim programa.')\n"
   ]
  },
  {
   "cell_type": "markdown",
   "metadata": {},
   "source": [
    "##### Exercício 7.3\n",
    "Escreva uma fc para calcular o valor de pi a partir da equacao abaixo, comparando com o valor de math.pi até que a diferenca seja menor do que 1e-15"
   ]
  },
  {
   "cell_type": "markdown",
   "metadata": {},
   "source": [
    "##### Srinivasa Ramanujan's Formula for \\($ \\frac{1}{\\pi} $\\)\n",
    "\n",
    "$$\n",
    "\\frac{1}{\\pi} = \\frac{2\\sqrt{2}}{9801} \\sum_{k=0}^{\\infty} \\frac{(4k)!(1103 + 26390k)}{(k!)^4 396^{4k}}\n",
    "$$\n",
    "\n",
    "This series converges very rapidly and is used in high-precision calculations of \\($ \\pi $\\)."
   ]
  },
  {
   "cell_type": "code",
   "execution_count": null,
   "metadata": {},
   "outputs": [
    {
     "name": "stdout",
     "output_type": "stream",
     "text": [
      "Para k = 0, termo_k = 1103.0\n",
      "Para k = 1, termo_k = 2.6831974348925308e-05\n",
      "Para k = 2, termo_k = 2.2453850201136644e-13\n",
      "Para k = 3, termo_k = 1.995074994495897e-21\n",
      "Valor de pi calculado para pela expressao, para k = 3 é: 3.141592653589793 e pelo math.pi é: 3.141592653589793\n"
     ]
    }
   ],
   "source": [
    "import math\n",
    "\n",
    "constante = 2 * math.sqrt(2) / 9801\n",
    "\n",
    "# setando o valor de k e soma para o loop iniciar\n",
    "k = 0\n",
    "soma = 0\n",
    "\n",
    "while True:\n",
    "    \n",
    "    # calcula o k - esimo termo\n",
    "    termo_k = (math.factorial(4 * k) * (1103 + 26_390 * k)) / (math.factorial(k) ** 4 * 396 ** (4 * k))\n",
    "    print(f'Para {k = }, {termo_k = }')\n",
    "    \n",
    "    # faz o somatorio\n",
    "    soma += termo_k\n",
    "    \n",
    "    # multiplica pela constante\n",
    "    inv_pi_valor = constante * soma\n",
    "\n",
    "    # faz o check se o k-esimo termo é menor que 10^-15\n",
    "    if termo_k <= 1e-15:\n",
    "        break\n",
    "    \n",
    "    # atualiza o valor de k\n",
    "    k += 1\n",
    "\n",
    "print(f'Valor de pi calculado para pela expressao, para {k = } é: {1 / inv_pi_valor} e pelo math.pi é: {math.pi}')"
   ]
  }
 ],
 "metadata": {
  "kernelspec": {
   "display_name": ".venv",
   "language": "python",
   "name": "python3"
  },
  "language_info": {
   "codemirror_mode": {
    "name": "ipython",
    "version": 3
   },
   "file_extension": ".py",
   "mimetype": "text/x-python",
   "name": "python",
   "nbconvert_exporter": "python",
   "pygments_lexer": "ipython3",
   "version": "3.11.5"
  }
 },
 "nbformat": 4,
 "nbformat_minor": 2
}
