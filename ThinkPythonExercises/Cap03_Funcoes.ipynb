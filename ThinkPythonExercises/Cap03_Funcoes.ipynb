{
 "cells": [
  {
   "cell_type": "markdown",
   "metadata": {},
   "source": [
    "#### Exercicio 3.1\n",
    "Escreva uma função chamada right_justify que receba uma string chamada s e exiba a string com espacos suficientes para que a última letra esteja na coluna 70 da lista"
   ]
  },
  {
   "cell_type": "code",
   "execution_count": 5,
   "metadata": {},
   "outputs": [
    {
     "name": "stdout",
     "output_type": "stream",
     "text": [
      "                                                           hello world\n",
      "                                                              vinicius\n",
      "                                                                python\n",
      "                                                                    is\n",
      "                                                                   fun\n"
     ]
    }
   ],
   "source": [
    "def right_justify(s):\n",
    "    print(' ' * (70 - len(s)) + s)\n",
    "\n",
    "# tupla de palavras\n",
    "words = 'hello world', 'vinicius', 'python', 'is', 'fun'\n",
    "\n",
    "for word in words:\n",
    "    right_justify(word)"
   ]
  },
  {
   "cell_type": "markdown",
   "metadata": {},
   "source": [
    "#### Exercicio 3.2\n",
    "Um objeto de função é um valor que pode ser atribuido à uma variável ou passado como argumento para outra funcao, como no exemplo abaixo. "
   ]
  },
  {
   "cell_type": "code",
   "execution_count": 48,
   "metadata": {},
   "outputs": [
    {
     "name": "stdout",
     "output_type": "stream",
     "text": [
      "5\n"
     ]
    }
   ],
   "source": [
    "# exemplo\n",
    "from typing import Callable\n",
    "\n",
    "# funcao que será passada como objeto para outra\n",
    "def add(a: int, b: int) -> int:\n",
    "    return a + b\n",
    "\n",
    "# funcao que recebe funcao add como objeto Callable\n",
    "# sintaxe do Callable - func: Callable[tipo argumentos, tipo retorno]\n",
    "\n",
    "# aqui, podemos ler como: func é um objeto funcao que recebe  dois argumentos do tipo\n",
    "# int e retorna um tipo int.\n",
    "# Como a função add recebe dois argumentos, passsamos eles como lista para o Callable\n",
    "def apply_function(func: Callable[[int, int], int], a: int, b: int) -> int:\n",
    "    return func(a, b)\n",
    "\n",
    "print(apply_function(add, 2, 3))"
   ]
  },
  {
   "cell_type": "code",
   "execution_count": 50,
   "metadata": {},
   "outputs": [
    {
     "name": "stdout",
     "output_type": "stream",
     "text": [
      "spam\n",
      "spam\n"
     ]
    }
   ],
   "source": [
    "# exemplo do livro\n",
    "from typing import Callable\n",
    "\n",
    "def print_spam() -> None:\n",
    "    print('spam')\n",
    "\n",
    "# especificando que a funcao recebe um objeto funcao (Callable) que recebe nenhum argumento e retorna None\n",
    "def do_twice(func: Callable[[], None]) -> None: # objetos de função \n",
    "    func()\n",
    "    func()\n",
    "\n",
    "do_twice(print_spam)"
   ]
  },
  {
   "cell_type": "markdown",
   "metadata": {},
   "source": [
    "3.2.1. Altere o programa acima para que do_twice receba dois argumentos: um objeto de funcao e um valor, e chame a funcao duas vezes, passando o valor como argumento"
   ]
  },
  {
   "cell_type": "code",
   "execution_count": 89,
   "metadata": {},
   "outputs": [
    {
     "name": "stdout",
     "output_type": "stream",
     "text": [
      "spam\n",
      "spam\n"
     ]
    }
   ],
   "source": [
    "# exemplo do livro\n",
    "from typing import Callable\n",
    "\n",
    "def print_spam() -> None:\n",
    "    print('spam')\n",
    "\n",
    "\n",
    "def do_twice(func: Callable[[], None], valor) -> None: # objetos de função \n",
    "    \n",
    "    # usando loop para chamar a fc passada no argumento duas vezes\n",
    "    for _ in range(valor):\n",
    "        func() \n",
    "\n",
    "# passando obeto de funcao + qtd de vezes que a funcao será repetida\n",
    "do_twice(print_spam, 2)"
   ]
  }
 ],
 "metadata": {
  "kernelspec": {
   "display_name": ".venv",
   "language": "python",
   "name": "python3"
  },
  "language_info": {
   "codemirror_mode": {
    "name": "ipython",
    "version": 3
   },
   "file_extension": ".py",
   "mimetype": "text/x-python",
   "name": "python",
   "nbconvert_exporter": "python",
   "pygments_lexer": "ipython3",
   "version": "3.11.5"
  }
 },
 "nbformat": 4,
 "nbformat_minor": 2
}
