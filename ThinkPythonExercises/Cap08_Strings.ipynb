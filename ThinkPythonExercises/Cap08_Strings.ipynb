{
 "cells": [
  {
   "cell_type": "markdown",
   "metadata": {},
   "source": [
    "##### Exercício 8.2\n",
    "Escreva uma classe, que possua um método count_letters, que receba n letras como argumento e conte o número de ocorrencias de cada uma em uma string"
   ]
  },
  {
   "cell_type": "code",
   "execution_count": null,
   "metadata": {},
   "outputs": [
    {
     "data": {
      "text/plain": [
       "{'i': 3, 'n': 1, 'b': 0}"
      ]
     },
     "execution_count": 18,
     "metadata": {},
     "output_type": "execute_result"
    }
   ],
   "source": [
    "class MyString:\n",
    "\n",
    "    def __init__(self, word = ''):\n",
    "        \n",
    "        self.word = word\n",
    "        self.length = len(word)\n",
    "\n",
    "    def count_letters(self, *letters):\n",
    "        \n",
    "        dct_count = {letter: self.word.count(letter) for letter in letters}\n",
    "        return dct_count\n",
    "        \n",
    "\n",
    "# instanciando um objeto a partir da classe MyString\n",
    "string = MyString('vinicius')\n",
    "\n",
    "letters_qty = string.count_letters('i', 'n', 'b')\n",
    "letters_qty"
   ]
  },
  {
   "cell_type": "markdown",
   "metadata": {},
   "source": [
    "##### Exercicio 8.3\n",
    "\n",
    "O objetivo das funçoes a seguir é identificar se uma string contém letras minúsculas, mas algumas delas estao erradas. Descreva o que cada uma delas faz"
   ]
  },
  {
   "cell_type": "code",
   "execution_count": null,
   "metadata": {},
   "outputs": [],
   "source": [
    "def any_lowercase(s):\n",
    "    '''Errado pois caso esse programa só consegue verificar se a primeira letra da string é lowercase.\n",
    "    Caso não for, o programa já retorna false sem avaliar o resto da string'''\n",
    "    \n",
    "    for c in s:\n",
    "        if c.islower():\n",
    "            return True\n",
    "        else:\n",
    "            return False\n",
    " # ------------------------------\n",
    "\n",
    "def any_lowercase2(s):\n",
    "    '''Errado, pois ele não percorre cada caracter da string. Ele chumba a string c com o método islower(),\n",
    "    então sempre vai retornar True'''\n",
    "    \n",
    "    for c in s:\n",
    "        if 'c'.islower():\n",
    "            return True\n",
    "        \n",
    "        else:\n",
    "            return False\n",
    "# ------------------------------\n",
    "\n",
    "def any_lowercase3(s):\n",
    "    '''Errado, pq retorna apenas se a última letra da string s é lowercase'''\n",
    "    for c in s:\n",
    "        flag = c.islower() \n",
    "\n",
    "    return flag\n",
    "# ------------------------------\n",
    "\n",
    "def any_lowercase4(s):\n",
    "    '''Correto, pois se no loop for, existir uma letra lowercase, a flag atualiza para True\n",
    "        e o teste lógico com OR retornará sempre True independente do resultados das letras\n",
    "        subsequentes'''\n",
    "    flag = False\n",
    "    \n",
    "    for c in s:\n",
    "        flag = flag or c.islower() \n",
    "\n",
    "    return flag\n",
    "# -----------------------------\n",
    "\n",
    "def any_lowercase5(s):\n",
    "    '''Errado, pois ele retorna true apenas se toda a string estiver lowercase'''\n",
    "\n",
    "    for c in s:\n",
    "        if not c.islower():\n",
    "            return False\n",
    "\n",
    "    return True               \n"
   ]
  },
  {
   "cell_type": "code",
   "execution_count": 63,
   "metadata": {},
   "outputs": [
    {
     "name": "stdout",
     "output_type": "stream",
     "text": [
      "Para any_lowercase: False\n",
      "\n",
      "Para any_lowercase2: True\n",
      "\n",
      "Para any_lowercase3: False\n",
      "\n",
      "Para any_lowercase4: True\n",
      "\n",
      "Para any_lowercase5: False\n",
      "\n"
     ]
    }
   ],
   "source": [
    "palavra = 'VINIcIUS'\n",
    "print(f\"Para any_lowercase: {any_lowercase(palavra)}\\n\")\n",
    "print(f\"Para any_lowercase2: {any_lowercase2(palavra)}\\n\")\n",
    "print(f\"Para any_lowercase3: {any_lowercase3(palavra)}\\n\")\n",
    "print(f\"Para any_lowercase4: {any_lowercase4(palavra)}\\n\")\n",
    "print(f\"Para any_lowercase5: {any_lowercase5(palavra)}\\n\")"
   ]
  },
  {
   "cell_type": "code",
   "execution_count": 61,
   "metadata": {},
   "outputs": [
    {
     "data": {
      "text/plain": [
       "True"
      ]
     },
     "execution_count": 61,
     "metadata": {},
     "output_type": "execute_result"
    }
   ],
   "source": [
    "# Meu programa para identificar se existe minusculas\n",
    "\n",
    "word = 'ViNICIUS'\n",
    "\n",
    "flag = any(letter.islower() for letter in word)\n",
    "\n",
    "flag"
   ]
  },
  {
   "cell_type": "markdown",
   "metadata": {},
   "source": [
    "##### Exercício 8.5\n",
    "Crie um programa que receba uma string e rotacione ela por um número de caracteres. Exemplo: \"cheer\" rotacionado por 7 é \"jolly\". IBM rotacionado por -1 é HAL."
   ]
  },
  {
   "cell_type": "code",
   "execution_count": null,
   "metadata": {},
   "outputs": [
    {
     "name": "stdout",
     "output_type": "stream",
     "text": [
      "letra='a' e index=97\n",
      "idx=96\n",
      "\n",
      "letra='b' e index=98\n",
      "idx=97\n",
      "\n",
      "letra='c' e index=99\n",
      "idx=98\n",
      "\n",
      "`ab\n"
     ]
    },
    {
     "ename": "",
     "evalue": "",
     "output_type": "error",
     "traceback": [
      "\u001b[1;31mThe Kernel crashed while executing code in the current cell or a previous cell. \n",
      "\u001b[1;31mPlease review the code in the cell(s) to identify a possible cause of the failure. \n",
      "\u001b[1;31mClick <a href='https://aka.ms/vscodeJupyterKernelCrash'>here</a> for more info. \n",
      "\u001b[1;31mView Jupyter <a href='command:jupyter.viewOutput'>log</a> for further details."
     ]
    }
   ],
   "source": [
    "my_str = 'abc'\n",
    "step = -1\n",
    "\n",
    "new_str = ''\n",
    "for letra in my_str:\n",
    "    \n",
    "    print(f'{letra=} e index={ord(letra)}')\n",
    "\n",
    "    index = ord(letra)\n",
    "\n",
    "    if index + step > ord('z'):\n",
    "\n",
    "        print('entrou no if')\n",
    "        \n",
    "        idx = ord('a') + step - 1\n",
    "        print(f'idx={idx}\\n')\n",
    "\n",
    "    else:\n",
    "        idx = index + step\n",
    "        print(f'idx={idx}\\n')\n",
    "\n",
    "    new_letra = chr(idx)\n",
    "\n",
    "    new_str += new_letra\n",
    "\n",
    "print(new_str)\n"
   ]
  },
  {
   "cell_type": "code",
   "execution_count": 98,
   "metadata": {},
   "outputs": [
    {
     "data": {
      "text/plain": [
       "97"
      ]
     },
     "execution_count": 98,
     "metadata": {},
     "output_type": "execute_result"
    }
   ],
   "source": [
    "ord('a')"
   ]
  },
  {
   "cell_type": "code",
   "execution_count": 122,
   "metadata": {},
   "outputs": [
    {
     "data": {
      "text/plain": [
       "122"
      ]
     },
     "execution_count": 122,
     "metadata": {},
     "output_type": "execute_result"
    }
   ],
   "source": [
    "ord('z')"
   ]
  },
  {
   "cell_type": "code",
   "execution_count": null,
   "metadata": {},
   "outputs": [
    {
     "data": {
      "text/plain": [
       "1"
      ]
     },
     "execution_count": 27,
     "metadata": {},
     "output_type": "execute_result"
    }
   ],
   "source": [
    "char = 'z'\n",
    "\n",
    "offset = 1\n",
    "\n",
    "offset -= ord('z') - ord(char)\n",
    "\n",
    "offset\n"
   ]
  },
  {
   "cell_type": "code",
   "execution_count": 22,
   "metadata": {},
   "outputs": [
    {
     "data": {
      "text/plain": [
       "119"
      ]
     },
     "execution_count": 22,
     "metadata": {},
     "output_type": "execute_result"
    }
   ],
   "source": [
    "ord('w')"
   ]
  },
  {
   "cell_type": "code",
   "execution_count": 30,
   "metadata": {},
   "outputs": [
    {
     "data": {
      "text/plain": [
       "25"
      ]
     },
     "execution_count": 30,
     "metadata": {},
     "output_type": "execute_result"
    }
   ],
   "source": [
    "import string\n",
    "\n",
    "alfabeto = string.ascii_lowercase\n",
    "alfabeto.index('z')"
   ]
  },
  {
   "cell_type": "code",
   "execution_count": 141,
   "metadata": {},
   "outputs": [
    {
     "name": "stdout",
     "output_type": "stream",
     "text": [
      "jolly\n",
      "Jolly\n",
      "cpupJpbZ$\n"
     ]
    }
   ],
   "source": [
    "import string\n",
    "\n",
    "def rotate_word(word: str, step: int = 1) -> str:\n",
    "    \n",
    "    # string vazia para receber a nova string formada\n",
    "    new_word = ''\n",
    "    \n",
    "    for letter in word:\n",
    "        \n",
    "        # verifica se é caractere especial. Se for, não rotaciona a letra\n",
    "        if letter not in string.punctuation:\n",
    "\n",
    "            # define o start de acord com o case da letra\n",
    "            start = ord('a') if letter.islower() else ord('A')\n",
    "\n",
    "            # formula para calcular o index\n",
    "            index =  start + (ord(letter) - start + step) % 26\n",
    "\n",
    "        else:\n",
    "            index = ord(letter)\n",
    "        \n",
    "        new_word += chr(index)\n",
    "\n",
    "    return new_word\n",
    "\n",
    "# check para lista de palavras\n",
    "list_of_words = ['cheer', 'Cheer', 'viniCiuS$']\n",
    "\n",
    "for item in list_of_words:\n",
    "    print(rotate_word(item, 7))\n",
    "        "
   ]
  }
 ],
 "metadata": {
  "kernelspec": {
   "display_name": ".venv",
   "language": "python",
   "name": "python3"
  },
  "language_info": {
   "codemirror_mode": {
    "name": "ipython",
    "version": 3
   },
   "file_extension": ".py",
   "mimetype": "text/x-python",
   "name": "python",
   "nbconvert_exporter": "python",
   "pygments_lexer": "ipython3",
   "version": "3.11.5"
  }
 },
 "nbformat": 4,
 "nbformat_minor": 2
}
