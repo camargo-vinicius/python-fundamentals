{
 "cells": [
  {
   "cell_type": "markdown",
   "metadata": {},
   "source": [
    "##### Escreva umaa função ack() que avalie o resultado de ack(3, 4)"
   ]
  },
  {
   "cell_type": "markdown",
   "metadata": {
    "vscode": {
     "languageId": "tex"
    }
   },
   "source": [
    "### Ackermann Function\n",
    "\n",
    "The Ackermann function is a well-known example of a recursive function that is not primitive recursive. It is defined as follows:\n",
    "\n",
    "$$\n",
    "A(m, n) =\n",
    "\\begin{cases} \n",
    "n + 1 & \\text{if } m = 0 \\\\\n",
    "A(m - 1, 1) & \\text{if } m > 0 \\text{ and } n = 0 \\\\\n",
    "A(m - 1, A(m, n - 1)) & \\text{if } m > 0 \\text{ and } n > 0 \n",
    "\\end{cases}\n",
    "$$\n",
    "\n",
    "The Ackermann function grows very quickly with respect to its arguments, much faster than polynomial or exponential functions."
   ]
  },
  {
   "cell_type": "code",
   "execution_count": 9,
   "metadata": {},
   "outputs": [
    {
     "data": {
      "text/plain": [
       "125"
      ]
     },
     "execution_count": 9,
     "metadata": {},
     "output_type": "execute_result"
    }
   ],
   "source": [
    "def ack(m, n):\n",
    "    \n",
    "    if m == 0:\n",
    "        return n + 1\n",
    "    \n",
    "    elif m > 0:\n",
    "        return ack(m - 1, 1) if n == 0 else ack(m - 1, ack(m, n - 1))\n",
    "\n",
    "# main\n",
    "ack(3, 4)"
   ]
  },
  {
   "cell_type": "markdown",
   "metadata": {},
   "source": [
    "##### args e kwargs"
   ]
  },
  {
   "cell_type": "code",
   "execution_count": 15,
   "metadata": {},
   "outputs": [
    {
     "name": "stdout",
     "output_type": "stream",
     "text": [
      "soma de 5 numeros: 15\n",
      "soma de 10 numeros: 55\n"
     ]
    }
   ],
   "source": [
    "def sum_numbers(*args):\n",
    "\n",
    "    # args agrupa todos os números em uma tupla e faz a soma\n",
    "    return sum(args)\n",
    "\n",
    "print(f'soma de 5 numeros: {sum_numbers(1, 2, 3, 4, 5)}')\n",
    "print(f'soma de 10 numeros: {sum_numbers(1, 2, 3, 4, 5, 6, 7, 8, 9, 10)}')"
   ]
  },
  {
   "cell_type": "code",
   "execution_count": 16,
   "metadata": {},
   "outputs": [
    {
     "name": "stdout",
     "output_type": "stream",
     "text": [
      "soma de 7 numeros com args e kwargs: 25\n"
     ]
    }
   ],
   "source": [
    "def sum_numbers(*args, **kwargs):\n",
    "\n",
    "    sum_args = sum(args)\n",
    "    sum_kwargs = sum(kwargs.values())\n",
    "    # args agrupa todos os números em uma tupla e faz a soma\n",
    "    return sum_args + sum_kwargs\n",
    "\n",
    "print(f'soma de 7 numeros com args e kwargs: {sum_numbers(1, 2, 3, 4, 5, a=4, b=6)}')"
   ]
  },
  {
   "cell_type": "code",
   "execution_count": 17,
   "metadata": {},
   "outputs": [
    {
     "name": "stdout",
     "output_type": "stream",
     "text": [
      "15\n",
      "3.0\n"
     ]
    }
   ],
   "source": [
    "def operacao_condicional(x, *y):\n",
    "\n",
    "    # se x for par, soma todos os outros argumentos que estarao na tupla y\n",
    "    # se não, calcula a média deles\n",
    "    return sum(y) if x % 2 == 0 else sum(y) / len(y) \n",
    "\n",
    "# o primeiro argumento posicional vai para o parametro x enquanto o restante vai para o argumento y no formato de tupla\n",
    "print(operacao_condicional(2, 1, 2, 3, 4, 5))\n",
    "\n",
    "print(operacao_condicional(1, 1, 2, 3, 4, 5))"
   ]
  },
  {
   "cell_type": "markdown",
   "metadata": {},
   "source": [
    "##### Exercício 6.3.1\n",
    "\n",
    "Teste as funções abaixo para os seguintes casos:\n",
    "\n",
    "1 - o que acontece se middle for chamada com uma string de duas letras? R: Retorna uma string vazia, pois a função middle não pega a primeira (index = 0) e nem a última letra (index = -1)\n",
    "\n",
    "2 - o que acontece se middle for chamada com uma string de uma letra? R: Retorna uma string vazia, pois a função middle não pega a primeira (index = 0) e nem a última letra (index = -1)\n",
    "\n",
    "3 - e se a string estiver vazia ('') e não contiver nenhuma letra? R: Retorna uma string vazia"
   ]
  },
  {
   "cell_type": "code",
   "execution_count": 19,
   "metadata": {},
   "outputs": [],
   "source": [
    "def first(word: str) -> str: return word[0] # retorna a primeira letra de uma palavra\n",
    "\n",
    "def last(word: str) -> str: return word[-1] # retorna a última letra de uma palavra\n",
    "\n",
    "def middle(word: str) -> str: return word[1: -1] # retorna as letras do meio"
   ]
  },
  {
   "cell_type": "code",
   "execution_count": 29,
   "metadata": {},
   "outputs": [
    {
     "name": "stdout",
     "output_type": "stream",
     "text": [
      "string de duas letras: \n",
      "string de uma letra: \n",
      "string vazia: \n"
     ]
    }
   ],
   "source": [
    "print(f\"string de duas letras: {middle('oi')}\")\n",
    "print(f\"string de uma letra: {middle('o')}\")\n",
    "print(f\"string vazia: {middle('')}\")"
   ]
  },
  {
   "cell_type": "markdown",
   "metadata": {},
   "source": [
    "##### Exercício 6.3.2\n",
    "\n",
    "Escreva uma funçao que cheque se uma palavra é palindromo"
   ]
  },
  {
   "cell_type": "code",
   "execution_count": 40,
   "metadata": {},
   "outputs": [
    {
     "name": "stdout",
     "output_type": "stream",
     "text": [
      "Para word = osso: True\n",
      "Para word = vinicius: False\n",
      "Para word = oi: not a valid word\n",
      "Para word = o: not a valid word\n",
      "Para word = : not a valid word\n"
     ]
    }
   ],
   "source": [
    "def is_palindrome(word: str) -> bool|str:\n",
    "    return word == word[::-1] if len(word) > 2 else 'not a valid word'\n",
    "\n",
    "\n",
    "lista_palavras = ['osso', 'vinicius', 'oi', 'o', '']\n",
    "\n",
    "for string in lista_palavras:\n",
    "\n",
    "    print(f'Para word = {string}: {is_palindrome(string)}')"
   ]
  },
  {
   "cell_type": "markdown",
   "metadata": {},
   "source": [
    "##### Exercício 6.1\n",
    "\n",
    "O que o programa abaixo irá fazer?"
   ]
  },
  {
   "cell_type": "code",
   "execution_count": 2,
   "metadata": {},
   "outputs": [
    {
     "name": "stdout",
     "output_type": "stream",
     "text": [
      "8100\n"
     ]
    }
   ],
   "source": [
    "def a(x, y): # x==9, y==9\n",
    "    \n",
    "    x += 1 # x == 10\n",
    "    \n",
    "    return x * y # retorna 90\n",
    "\n",
    "def b(z): # z == 9\n",
    "    \n",
    "    prod = a(z, z) # a(9, 9)\n",
    "    \n",
    "    return prod\n",
    "\n",
    "def c(x, y, z): # c(1, 5, 3)\n",
    "    \n",
    "    total = x + y + z # total == 1 + 5 + 3 == 9\n",
    "    square = b(total) ** 2 # b(9) ** 2 == 8100 \n",
    "    \n",
    "    return square\n",
    "\n",
    "x = 1\n",
    "y = x + 1 # y = 2\n",
    "resultado = c(x, y + 3, x + y) # c(1, 5, 3)\n",
    "\n",
    "print(resultado) # o resultado será 8100"
   ]
  },
  {
   "cell_type": "markdown",
   "metadata": {},
   "source": [
    "##### Exercício 6.4\n",
    "\n",
    "Escreva uma fç is_power que cheque se a é uma potencia de b. Para isto ser verdade, a é divísivel por b e a/b for uma potencia de b\n",
    "\n",
    "É mais fácil usar log: a é potencia de b se log de a na base b resulte em um número inteiro x"
   ]
  },
  {
   "cell_type": "code",
   "execution_count": 39,
   "metadata": {},
   "outputs": [
    {
     "name": "stdout",
     "output_type": "stream",
     "text": [
      "Para x = 2 e y = 2: True\n",
      "Para x = 3 e y = 2: False\n",
      "Para x = 4 e y = 2: True\n",
      "Para x = 5 e y = 2: False\n",
      "Para x = 8 e y = 2: True\n",
      "Para x = 9 e y = 2: False\n",
      "Para x = 12 e y = 2: False\n",
      "Para x = 16 e y = 2: True\n"
     ]
    }
   ],
   "source": [
    "from math import log\n",
    "\n",
    "def is_power(a: int, b: int) -> bool:\n",
    "\n",
    "    # números possuem um método is_integer para checar se é inteiro ou não\n",
    "    return log(a, b).is_integer()\n",
    "\n",
    "lista = [(2, 2), (3, 2), (4, 2), (5, 2), (8, 2), (9, 2), (12, 2), (16, 2)]\n",
    "\n",
    "for x, y in lista:\n",
    "    print(f'Para x = {x} e y = {y}: {is_power(x, y)}')\n"
   ]
  },
  {
   "cell_type": "markdown",
   "metadata": {},
   "source": [
    "##### Máximo divisor comum\n",
    "\n",
    "Escreva uma funcao gdc que calcule o maximo divisor comum de dois números a e b"
   ]
  },
  {
   "cell_type": "code",
   "execution_count": 59,
   "metadata": {},
   "outputs": [
    {
     "data": {
      "text/plain": [
       "20"
      ]
     },
     "execution_count": 59,
     "metadata": {},
     "output_type": "execute_result"
    }
   ],
   "source": [
    "def mdc(a: int, b: int) -> int:\n",
    "    \n",
    "    # para cada numero de 1 ao menor número entre a e b, verifica se ele é divisor de a e b e pega o maior\n",
    "    maior_div = max((num for num in range(1, min(a, b) + 1) if a % num == 0 and b % num == 0))\n",
    "\n",
    "    return maior_div\n",
    "\n",
    "# main\n",
    "x, y = 100, 80\n",
    "\n",
    "mdc(x, y)\n"
   ]
  }
 ],
 "metadata": {
  "kernelspec": {
   "display_name": ".venv",
   "language": "python",
   "name": "python3"
  },
  "language_info": {
   "codemirror_mode": {
    "name": "ipython",
    "version": 3
   },
   "file_extension": ".py",
   "mimetype": "text/x-python",
   "name": "python",
   "nbconvert_exporter": "python",
   "pygments_lexer": "ipython3",
   "version": "3.11.5"
  }
 },
 "nbformat": 4,
 "nbformat_minor": 2
}
